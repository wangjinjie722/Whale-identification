{
 "cells": [
  {
   "cell_type": "markdown",
   "metadata": {},
   "source": [
    "# Environment Installation"
   ]
  },
  {
   "cell_type": "code",
   "execution_count": 1,
   "metadata": {},
   "outputs": [
    {
     "name": "stdout",
     "output_type": "stream",
     "text": [
      "\u001b[33mThe directory '/home/jovyan/.cache/pip/http' or its parent directory is not owned by the current user and the cache has been disabled. Please check the permissions and owner of that directory. If executing pip with sudo, you may want sudo's -H flag.\u001b[0m\n",
      "\u001b[33mThe directory '/home/jovyan/.cache/pip' or its parent directory is not owned by the current user and caching wheels has been disabled. check the permissions and owner of that directory. If executing pip with sudo, you may want sudo's -H flag.\u001b[0m\n",
      "Requirement already satisfied: albumentations in ./.local/lib/python3.6/site-packages (0.2.3)\n",
      "Requirement already satisfied: numpy>=1.11.1 in /opt/conda/lib/python3.6/site-packages (from albumentations) (1.16.2)\n",
      "Requirement already satisfied: scipy in /opt/conda/lib/python3.6/site-packages (from albumentations) (1.1.0)\n",
      "Requirement already satisfied: opencv-python-headless in ./.local/lib/python3.6/site-packages (from albumentations) (4.1.0.25)\n",
      "Requirement already satisfied: imgaug<0.2.7,>=0.2.5 in ./.local/lib/python3.6/site-packages (from albumentations) (0.2.6)\n",
      "Requirement already satisfied: scikit-image>=0.11.0 in ./.local/lib/python3.6/site-packages (from imgaug<0.2.7,>=0.2.5->albumentations) (0.15.0)\n",
      "Requirement already satisfied: six in /opt/conda/lib/python3.6/site-packages (from imgaug<0.2.7,>=0.2.5->albumentations) (1.12.0)\n",
      "Requirement already satisfied: networkx>=2.0 in /opt/conda/lib/python3.6/site-packages (from scikit-image>=0.11.0->imgaug<0.2.7,>=0.2.5->albumentations) (2.2)\n",
      "Requirement already satisfied: PyWavelets>=0.4.0 in ./.local/lib/python3.6/site-packages (from scikit-image>=0.11.0->imgaug<0.2.7,>=0.2.5->albumentations) (1.0.3)\n",
      "Requirement already satisfied: pillow>=4.3.0 in /opt/conda/lib/python3.6/site-packages (from scikit-image>=0.11.0->imgaug<0.2.7,>=0.2.5->albumentations) (5.4.1)\n",
      "Requirement already satisfied: imageio>=2.0.1 in ./.local/lib/python3.6/site-packages (from scikit-image>=0.11.0->imgaug<0.2.7,>=0.2.5->albumentations) (2.5.0)\n",
      "Requirement already satisfied: matplotlib!=3.0.0,>=2.0.0 in /opt/conda/lib/python3.6/site-packages (from scikit-image>=0.11.0->imgaug<0.2.7,>=0.2.5->albumentations) (2.2.3)\n",
      "Requirement already satisfied: decorator>=4.3.0 in /opt/conda/lib/python3.6/site-packages (from networkx>=2.0->scikit-image>=0.11.0->imgaug<0.2.7,>=0.2.5->albumentations) (4.3.2)\n",
      "Requirement already satisfied: cycler>=0.10 in /opt/conda/lib/python3.6/site-packages (from matplotlib!=3.0.0,>=2.0.0->scikit-image>=0.11.0->imgaug<0.2.7,>=0.2.5->albumentations) (0.10.0)\n",
      "Requirement already satisfied: pyparsing!=2.0.4,!=2.1.2,!=2.1.6,>=2.0.1 in /opt/conda/lib/python3.6/site-packages (from matplotlib!=3.0.0,>=2.0.0->scikit-image>=0.11.0->imgaug<0.2.7,>=0.2.5->albumentations) (2.3.1)\n",
      "Requirement already satisfied: python-dateutil>=2.1 in /opt/conda/lib/python3.6/site-packages (from matplotlib!=3.0.0,>=2.0.0->scikit-image>=0.11.0->imgaug<0.2.7,>=0.2.5->albumentations) (2.8.0)\n",
      "Requirement already satisfied: pytz in /opt/conda/lib/python3.6/site-packages (from matplotlib!=3.0.0,>=2.0.0->scikit-image>=0.11.0->imgaug<0.2.7,>=0.2.5->albumentations) (2018.9)\n",
      "Requirement already satisfied: kiwisolver>=1.0.1 in /opt/conda/lib/python3.6/site-packages (from matplotlib!=3.0.0,>=2.0.0->scikit-image>=0.11.0->imgaug<0.2.7,>=0.2.5->albumentations) (1.0.1)\n",
      "Requirement already satisfied: setuptools in /opt/conda/lib/python3.6/site-packages (from kiwisolver>=1.0.1->matplotlib!=3.0.0,>=2.0.0->scikit-image>=0.11.0->imgaug<0.2.7,>=0.2.5->albumentations) (40.8.0)\n"
     ]
    }
   ],
   "source": [
    "!pip install albumentations --user"
   ]
  },
  {
   "cell_type": "code",
   "execution_count": 2,
   "metadata": {},
   "outputs": [
    {
     "name": "stdout",
     "output_type": "stream",
     "text": [
      "\u001b[33mThe directory '/home/jovyan/.cache/pip/http' or its parent directory is not owned by the current user and the cache has been disabled. Please check the permissions and owner of that directory. If executing pip with sudo, you may want sudo's -H flag.\u001b[0m\n",
      "\u001b[33mThe directory '/home/jovyan/.cache/pip' or its parent directory is not owned by the current user and caching wheels has been disabled. check the permissions and owner of that directory. If executing pip with sudo, you may want sudo's -H flag.\u001b[0m\n",
      "Requirement already satisfied: pretrainedmodels in ./.local/lib/python3.6/site-packages (0.7.4)\n",
      "Requirement already satisfied: torch in /opt/conda/lib/python3.6/site-packages (from pretrainedmodels) (1.0.1.post2)\n",
      "Requirement already satisfied: torchvision in /opt/conda/lib/python3.6/site-packages (from pretrainedmodels) (0.2.2)\n",
      "Requirement already satisfied: munch in ./.local/lib/python3.6/site-packages (from pretrainedmodels) (2.3.2)\n",
      "Requirement already satisfied: tqdm in /opt/conda/lib/python3.6/site-packages (from pretrainedmodels) (4.31.1)\n",
      "Requirement already satisfied: numpy in /opt/conda/lib/python3.6/site-packages (from torchvision->pretrainedmodels) (1.16.2)\n",
      "Requirement already satisfied: six in /opt/conda/lib/python3.6/site-packages (from torchvision->pretrainedmodels) (1.12.0)\n",
      "Requirement already satisfied: pillow>=4.1.1 in /opt/conda/lib/python3.6/site-packages (from torchvision->pretrainedmodels) (5.4.1)\n"
     ]
    }
   ],
   "source": [
    "!pip install pretrainedmodels --user"
   ]
  },
  {
   "cell_type": "code",
   "execution_count": 12,
   "metadata": {},
   "outputs": [
    {
     "name": "stderr",
     "output_type": "stream",
     "text": [
      "Using TensorFlow backend.\n"
     ]
    }
   ],
   "source": [
    "import os\n",
    "import cv2\n",
    "import csv\n",
    "import time \n",
    "import tqdm\n",
    "import torch\n",
    "import warnings\n",
    "import numpy as np \n",
    "import torchvision\n",
    "import pandas as pd \n",
    "train_on_gpu = True\n",
    "from PIL import Image\n",
    "import torch.nn as nn\n",
    "import albumentations\n",
    "import pretrainedmodels\n",
    "import torch.optim as optim\n",
    "from torchvision import models\n",
    "from keras.models import Model\n",
    "import matplotlib.pyplot as plt\n",
    "import torch.nn.functional as F\n",
    "import matplotlib.image as mplimg\n",
    "from collections import OrderedDict\n",
    "from torch.optim import lr_scheduler\n",
    "from matplotlib.pyplot import imshow\n",
    "from albumentations import torch as AT\n",
    "import torchvision.transforms as transforms\n",
    "from sklearn.preprocessing import LabelEncoder\n",
    "from sklearn.preprocessing import OneHotEncoder\n",
    "from keras.layers import Dense, GlobalAveragePooling2D\n",
    "from torch.utils.data.sampler import SubsetRandomSampler\n",
    "warnings.simplefilter(\"ignore\", category=DeprecationWarning)\n",
    "from torch.utils.data import TensorDataset, DataLoader,Dataset\n",
    "from keras.applications.densenet import DenseNet201,preprocess_input\n",
    "from torch.optim.lr_scheduler import StepLR, ReduceLROnPlateau, CosineAnnealingLR"
   ]
  },
  {
   "cell_type": "code",
   "execution_count": 8,
   "metadata": {},
   "outputs": [
    {
     "name": "stdout",
     "output_type": "stream",
     "text": [
      "cuda\n"
     ]
    }
   ],
   "source": [
    "device = 'cuda' if torch.cuda.is_available() else 'cpu'\n",
    "print(device)"
   ]
  },
  {
   "cell_type": "markdown",
   "metadata": {},
   "source": [
    "# Prepare data"
   ]
  },
  {
   "cell_type": "code",
   "execution_count": 9,
   "metadata": {},
   "outputs": [
    {
     "ename": "FileNotFoundError",
     "evalue": "File b'../data/train.csv' does not exist",
     "output_type": "error",
     "traceback": [
      "\u001b[0;31m---------------------------------------------------------------------------\u001b[0m",
      "\u001b[0;31mFileNotFoundError\u001b[0m                         Traceback (most recent call last)",
      "\u001b[0;32m<ipython-input-9-22b241588e6b>\u001b[0m in \u001b[0;36m<module>\u001b[0;34m()\u001b[0m\n\u001b[0;32m----> 1\u001b[0;31m \u001b[0mtrain_df\u001b[0m \u001b[0;34m=\u001b[0m \u001b[0mpd\u001b[0m\u001b[0;34m.\u001b[0m\u001b[0mread_csv\u001b[0m\u001b[0;34m(\u001b[0m\u001b[0;34m\"../data/train.csv\"\u001b[0m\u001b[0;34m)\u001b[0m\u001b[0;34m\u001b[0m\u001b[0;34m\u001b[0m\u001b[0m\n\u001b[0m\u001b[1;32m      2\u001b[0m \u001b[0mtest_df\u001b[0m \u001b[0;34m=\u001b[0m \u001b[0mpd\u001b[0m\u001b[0;34m.\u001b[0m\u001b[0mread_csv\u001b[0m\u001b[0;34m(\u001b[0m\u001b[0;34m\"../data/new_whale_test.csv\"\u001b[0m\u001b[0;34m)\u001b[0m\u001b[0;34m\u001b[0m\u001b[0;34m\u001b[0m\u001b[0m\n\u001b[1;32m      3\u001b[0m \u001b[0mtrain_df\u001b[0m\u001b[0;34m.\u001b[0m\u001b[0mhead\u001b[0m\u001b[0;34m(\u001b[0m\u001b[0;34m)\u001b[0m\u001b[0;34m\u001b[0m\u001b[0;34m\u001b[0m\u001b[0m\n",
      "\u001b[0;32m/opt/conda/lib/python3.6/site-packages/pandas/io/parsers.py\u001b[0m in \u001b[0;36mparser_f\u001b[0;34m(filepath_or_buffer, sep, delimiter, header, names, index_col, usecols, squeeze, prefix, mangle_dupe_cols, dtype, engine, converters, true_values, false_values, skipinitialspace, skiprows, nrows, na_values, keep_default_na, na_filter, verbose, skip_blank_lines, parse_dates, infer_datetime_format, keep_date_col, date_parser, dayfirst, iterator, chunksize, compression, thousands, decimal, lineterminator, quotechar, quoting, escapechar, comment, encoding, dialect, tupleize_cols, error_bad_lines, warn_bad_lines, skipfooter, doublequote, delim_whitespace, low_memory, memory_map, float_precision)\u001b[0m\n\u001b[1;32m    676\u001b[0m                     skip_blank_lines=skip_blank_lines)\n\u001b[1;32m    677\u001b[0m \u001b[0;34m\u001b[0m\u001b[0m\n\u001b[0;32m--> 678\u001b[0;31m         \u001b[0;32mreturn\u001b[0m \u001b[0m_read\u001b[0m\u001b[0;34m(\u001b[0m\u001b[0mfilepath_or_buffer\u001b[0m\u001b[0;34m,\u001b[0m \u001b[0mkwds\u001b[0m\u001b[0;34m)\u001b[0m\u001b[0;34m\u001b[0m\u001b[0;34m\u001b[0m\u001b[0m\n\u001b[0m\u001b[1;32m    679\u001b[0m \u001b[0;34m\u001b[0m\u001b[0m\n\u001b[1;32m    680\u001b[0m     \u001b[0mparser_f\u001b[0m\u001b[0;34m.\u001b[0m\u001b[0m__name__\u001b[0m \u001b[0;34m=\u001b[0m \u001b[0mname\u001b[0m\u001b[0;34m\u001b[0m\u001b[0;34m\u001b[0m\u001b[0m\n",
      "\u001b[0;32m/opt/conda/lib/python3.6/site-packages/pandas/io/parsers.py\u001b[0m in \u001b[0;36m_read\u001b[0;34m(filepath_or_buffer, kwds)\u001b[0m\n\u001b[1;32m    438\u001b[0m \u001b[0;34m\u001b[0m\u001b[0m\n\u001b[1;32m    439\u001b[0m     \u001b[0;31m# Create the parser.\u001b[0m\u001b[0;34m\u001b[0m\u001b[0;34m\u001b[0m\u001b[0;34m\u001b[0m\u001b[0m\n\u001b[0;32m--> 440\u001b[0;31m     \u001b[0mparser\u001b[0m \u001b[0;34m=\u001b[0m \u001b[0mTextFileReader\u001b[0m\u001b[0;34m(\u001b[0m\u001b[0mfilepath_or_buffer\u001b[0m\u001b[0;34m,\u001b[0m \u001b[0;34m**\u001b[0m\u001b[0mkwds\u001b[0m\u001b[0;34m)\u001b[0m\u001b[0;34m\u001b[0m\u001b[0;34m\u001b[0m\u001b[0m\n\u001b[0m\u001b[1;32m    441\u001b[0m \u001b[0;34m\u001b[0m\u001b[0m\n\u001b[1;32m    442\u001b[0m     \u001b[0;32mif\u001b[0m \u001b[0mchunksize\u001b[0m \u001b[0;32mor\u001b[0m \u001b[0miterator\u001b[0m\u001b[0;34m:\u001b[0m\u001b[0;34m\u001b[0m\u001b[0;34m\u001b[0m\u001b[0m\n",
      "\u001b[0;32m/opt/conda/lib/python3.6/site-packages/pandas/io/parsers.py\u001b[0m in \u001b[0;36m__init__\u001b[0;34m(self, f, engine, **kwds)\u001b[0m\n\u001b[1;32m    785\u001b[0m             \u001b[0mself\u001b[0m\u001b[0;34m.\u001b[0m\u001b[0moptions\u001b[0m\u001b[0;34m[\u001b[0m\u001b[0;34m'has_index_names'\u001b[0m\u001b[0;34m]\u001b[0m \u001b[0;34m=\u001b[0m \u001b[0mkwds\u001b[0m\u001b[0;34m[\u001b[0m\u001b[0;34m'has_index_names'\u001b[0m\u001b[0;34m]\u001b[0m\u001b[0;34m\u001b[0m\u001b[0;34m\u001b[0m\u001b[0m\n\u001b[1;32m    786\u001b[0m \u001b[0;34m\u001b[0m\u001b[0m\n\u001b[0;32m--> 787\u001b[0;31m         \u001b[0mself\u001b[0m\u001b[0;34m.\u001b[0m\u001b[0m_make_engine\u001b[0m\u001b[0;34m(\u001b[0m\u001b[0mself\u001b[0m\u001b[0;34m.\u001b[0m\u001b[0mengine\u001b[0m\u001b[0;34m)\u001b[0m\u001b[0;34m\u001b[0m\u001b[0;34m\u001b[0m\u001b[0m\n\u001b[0m\u001b[1;32m    788\u001b[0m \u001b[0;34m\u001b[0m\u001b[0m\n\u001b[1;32m    789\u001b[0m     \u001b[0;32mdef\u001b[0m \u001b[0mclose\u001b[0m\u001b[0;34m(\u001b[0m\u001b[0mself\u001b[0m\u001b[0;34m)\u001b[0m\u001b[0;34m:\u001b[0m\u001b[0;34m\u001b[0m\u001b[0;34m\u001b[0m\u001b[0m\n",
      "\u001b[0;32m/opt/conda/lib/python3.6/site-packages/pandas/io/parsers.py\u001b[0m in \u001b[0;36m_make_engine\u001b[0;34m(self, engine)\u001b[0m\n\u001b[1;32m   1012\u001b[0m     \u001b[0;32mdef\u001b[0m \u001b[0m_make_engine\u001b[0m\u001b[0;34m(\u001b[0m\u001b[0mself\u001b[0m\u001b[0;34m,\u001b[0m \u001b[0mengine\u001b[0m\u001b[0;34m=\u001b[0m\u001b[0;34m'c'\u001b[0m\u001b[0;34m)\u001b[0m\u001b[0;34m:\u001b[0m\u001b[0;34m\u001b[0m\u001b[0;34m\u001b[0m\u001b[0m\n\u001b[1;32m   1013\u001b[0m         \u001b[0;32mif\u001b[0m \u001b[0mengine\u001b[0m \u001b[0;34m==\u001b[0m \u001b[0;34m'c'\u001b[0m\u001b[0;34m:\u001b[0m\u001b[0;34m\u001b[0m\u001b[0;34m\u001b[0m\u001b[0m\n\u001b[0;32m-> 1014\u001b[0;31m             \u001b[0mself\u001b[0m\u001b[0;34m.\u001b[0m\u001b[0m_engine\u001b[0m \u001b[0;34m=\u001b[0m \u001b[0mCParserWrapper\u001b[0m\u001b[0;34m(\u001b[0m\u001b[0mself\u001b[0m\u001b[0;34m.\u001b[0m\u001b[0mf\u001b[0m\u001b[0;34m,\u001b[0m \u001b[0;34m**\u001b[0m\u001b[0mself\u001b[0m\u001b[0;34m.\u001b[0m\u001b[0moptions\u001b[0m\u001b[0;34m)\u001b[0m\u001b[0;34m\u001b[0m\u001b[0;34m\u001b[0m\u001b[0m\n\u001b[0m\u001b[1;32m   1015\u001b[0m         \u001b[0;32melse\u001b[0m\u001b[0;34m:\u001b[0m\u001b[0;34m\u001b[0m\u001b[0;34m\u001b[0m\u001b[0m\n\u001b[1;32m   1016\u001b[0m             \u001b[0;32mif\u001b[0m \u001b[0mengine\u001b[0m \u001b[0;34m==\u001b[0m \u001b[0;34m'python'\u001b[0m\u001b[0;34m:\u001b[0m\u001b[0;34m\u001b[0m\u001b[0;34m\u001b[0m\u001b[0m\n",
      "\u001b[0;32m/opt/conda/lib/python3.6/site-packages/pandas/io/parsers.py\u001b[0m in \u001b[0;36m__init__\u001b[0;34m(self, src, **kwds)\u001b[0m\n\u001b[1;32m   1706\u001b[0m         \u001b[0mkwds\u001b[0m\u001b[0;34m[\u001b[0m\u001b[0;34m'usecols'\u001b[0m\u001b[0;34m]\u001b[0m \u001b[0;34m=\u001b[0m \u001b[0mself\u001b[0m\u001b[0;34m.\u001b[0m\u001b[0musecols\u001b[0m\u001b[0;34m\u001b[0m\u001b[0;34m\u001b[0m\u001b[0m\n\u001b[1;32m   1707\u001b[0m \u001b[0;34m\u001b[0m\u001b[0m\n\u001b[0;32m-> 1708\u001b[0;31m         \u001b[0mself\u001b[0m\u001b[0;34m.\u001b[0m\u001b[0m_reader\u001b[0m \u001b[0;34m=\u001b[0m \u001b[0mparsers\u001b[0m\u001b[0;34m.\u001b[0m\u001b[0mTextReader\u001b[0m\u001b[0;34m(\u001b[0m\u001b[0msrc\u001b[0m\u001b[0;34m,\u001b[0m \u001b[0;34m**\u001b[0m\u001b[0mkwds\u001b[0m\u001b[0;34m)\u001b[0m\u001b[0;34m\u001b[0m\u001b[0;34m\u001b[0m\u001b[0m\n\u001b[0m\u001b[1;32m   1709\u001b[0m \u001b[0;34m\u001b[0m\u001b[0m\n\u001b[1;32m   1710\u001b[0m         \u001b[0mpassed_names\u001b[0m \u001b[0;34m=\u001b[0m \u001b[0mself\u001b[0m\u001b[0;34m.\u001b[0m\u001b[0mnames\u001b[0m \u001b[0;32mis\u001b[0m \u001b[0;32mNone\u001b[0m\u001b[0;34m\u001b[0m\u001b[0;34m\u001b[0m\u001b[0m\n",
      "\u001b[0;32mpandas/_libs/parsers.pyx\u001b[0m in \u001b[0;36mpandas._libs.parsers.TextReader.__cinit__\u001b[0;34m()\u001b[0m\n",
      "\u001b[0;32mpandas/_libs/parsers.pyx\u001b[0m in \u001b[0;36mpandas._libs.parsers.TextReader._setup_parser_source\u001b[0;34m()\u001b[0m\n",
      "\u001b[0;31mFileNotFoundError\u001b[0m: File b'../data/train.csv' does not exist"
     ]
    }
   ],
   "source": [
    "train_df = pd.read_csv(\"../data/train.csv\")\n",
    "test_df = pd.read_csv(\"../data/new_whale_test.csv\")\n",
    "train_df.head()"
   ]
  },
  {
   "cell_type": "code",
   "execution_count": 8,
   "metadata": {},
   "outputs": [
    {
     "name": "stdout",
     "output_type": "stream",
     "text": [
      "There are 20288 images in train dataset with 4571 unique classes.\n",
      "There are 5074 images in test dataset with 1522 unique classes.\n"
     ]
    }
   ],
   "source": [
    "print(f\"There are {len(os.listdir('../data/train'))} images in train dataset with {train_df.Id.nunique()} unique classes.\")\n",
    "print(f\"There are {len(os.listdir('../data/test'))} images in test dataset with {test_df.Id.nunique()} unique classes.\")\n",
    "    "
   ]
  },
  {
   "cell_type": "code",
   "execution_count": 9,
   "metadata": {},
   "outputs": [
    {
     "name": "stdout",
     "output_type": "stream",
     "text": [
      "There are 2182 classes with 1 samples in train data.\n",
      "There are 1085 classes with 2 samples in train data.\n",
      "There are 441 classes with 3 samples in train data.\n"
     ]
    }
   ],
   "source": [
    "for i in range(1, 4):\n",
    "    print(f'There are {train_df.Id.value_counts()[train_df.Id.value_counts().values==i].shape[0]} classes with {i} samples in train data.')\n",
    "    "
   ]
  },
  {
   "cell_type": "code",
   "execution_count": 10,
   "metadata": {},
   "outputs": [
    {
     "data": {
      "image/png": "[encoded data removed]",
      "text/plain": [
       "<Figure size 432x288 with 1 Axes>"
      ]
     },
     "metadata": {
      "needs_background": "light"
     },
     "output_type": "display_data"
    }
   ],
   "source": [
    "train_df.Id.value_counts()[1:].plot(kind='hist');\n",
    "plt.title('Classes Number Distribution');"
   ]
  },
  {
   "cell_type": "code",
   "execution_count": 15,
   "metadata": {},
   "outputs": [
    {
     "name": "stderr",
     "output_type": "stream",
     "text": [
      "/opt/conda/lib/python3.6/site-packages/sklearn/preprocessing/_encoders.py:371: FutureWarning: The handling of integer data will change in version 0.22. Currently, the categories are determined based on the range [0, max(values)], while in the future they will be determined based on the unique values.\n",
      "If you want the future behaviour and silence this warning, you can specify \"categories='auto'\".\n",
      "In case you used a LabelEncoder before this OneHotEncoder to convert the categories to integers, then you can now use the OneHotEncoder directly.\n",
      "  warnings.warn(msg, FutureWarning)\n",
      "/opt/conda/lib/python3.6/site-packages/sklearn/preprocessing/_encoders.py:371: FutureWarning: The handling of integer data will change in version 0.22. Currently, the categories are determined based on the range [0, max(values)], while in the future they will be determined based on the unique values.\n",
      "If you want the future behaviour and silence this warning, you can specify \"categories='auto'\".\n",
      "In case you used a LabelEncoder before this OneHotEncoder to convert the categories to integers, then you can now use the OneHotEncoder directly.\n",
      "  warnings.warn(msg, FutureWarning)\n"
     ]
    }
   ],
   "source": [
    "def prepare_labels(y):\n",
    "    # From here: https://www.kaggle.com/pestipeti/keras-cnn-starter\n",
    "    values = np.array(y)\n",
    "    label_encoder = LabelEncoder()\n",
    "    integer_encoded = label_encoder.fit_transform(values)\n",
    "    onehot_encoder = OneHotEncoder(sparse=False)\n",
    "    integer_encoded = integer_encoded.reshape(len(integer_encoded), 1)\n",
    "    onehot_encoded = onehot_encoder.fit_transform(integer_encoded)\n",
    "    y = onehot_encoded\n",
    "    return y, label_encoder\n",
    "\n",
    "y, le = prepare_labels(train_df['Id'])\n",
    "y_ts, le_ts = prepare_labels(test_df['Id'])"
   ]
  },
  {
   "cell_type": "markdown",
   "metadata": {},
   "source": [
    "# Prepare Network"
   ]
  },
  {
   "cell_type": "markdown",
   "metadata": {},
   "source": [
    "### Simple CNN"
   ]
  },
  {
   "cell_type": "code",
   "execution_count": 15,
   "metadata": {},
   "outputs": [],
   "source": [
    "class WhaleDataset(Dataset):\n",
    "    def __init__(self, datafolder, datatype='train', df=None, transform = transforms.Compose([transforms.ToTensor()]), y=None):\n",
    "        self.datafolder = datafolder\n",
    "        self.datatype = datatype\n",
    "        self.y = y\n",
    "        if self.datatype == 'train':\n",
    "            self.df = df.values\n",
    "        self.image_files_list = [s for s in os.listdir(datafolder)]\n",
    "        self.transform = transform\n",
    "\n",
    "\n",
    "    def __len__(self):\n",
    "        return len(self.image_files_list)\n",
    "    \n",
    "    def __getitem__(self, idx):\n",
    "        if self.datatype == 'train':\n",
    "            img_name = os.path.join(self.datafolder, self.df[idx - 1][0])\n",
    "            label = self.y[idx - 1]\n",
    "            \n",
    "        elif self.datatype == 'test':\n",
    "            img_name = os.path.join(self.datafolder, self.image_files_list[idx - 1])\n",
    "            label = np.zeros((4571,))\n",
    "\n",
    "        image = Image.open(img_name).convert('RGB')\n",
    "        image = self.transform(image)\n",
    "        if self.datatype == 'train':\n",
    "            return image, label\n",
    "        elif self.datatype == 'test':\n",
    "            # so that the images will be in a correct order\n",
    "            return image, label, self.image_files_list[idx]\n",
    "        "
   ]
  },
  {
   "cell_type": "code",
   "execution_count": 16,
   "metadata": {},
   "outputs": [],
   "source": [
    "data_transforms = transforms.Compose([\n",
    "                                      transforms.Resize((100, 100)),\n",
    "                                      transforms.ToTensor(),\n",
    "                                      transforms.Normalize(mean=[0.485, 0.456, 0.406],\n",
    "                                                             std=[0.229, 0.224, 0.225])\n",
    "    ])\n",
    "data_transforms_test = transforms.Compose([\n",
    "                                           transforms.Resize((100, 100)),\n",
    "                                           transforms.ToTensor(),\n",
    "                                           transforms.Normalize(mean=[0.485, 0.456, 0.406],\n",
    "                                                                 std=[0.229, 0.224, 0.225])\n",
    "])\n"
   ]
  },
  {
   "cell_type": "code",
   "execution_count": 17,
   "metadata": {},
   "outputs": [],
   "source": [
    "train_dataset = WhaleDataset(datafolder='../data/train/', datatype='train', df=train_df, transform=data_transforms, y=y)\n",
    "test_set = WhaleDataset(datafolder='../data/test/', datatype='test', transform=data_transforms_test)\n",
    "\n",
    "train_sampler = SubsetRandomSampler(list(range(len(os.listdir('../data/train')))))\n",
    "valid_sampler = SubsetRandomSampler(list(range(len(os.listdir('../data/test')))))\n",
    "batch_size = 128\n",
    "num_workers = 0\n",
    "\n",
    "train_loader = torch.utils.data.DataLoader(train_dataset, batch_size=batch_size, sampler=train_sampler, num_workers=num_workers)\n",
    "test_loader = torch.utils.data.DataLoader(test_set, batch_size=32, num_workers=num_workers)\n"
   ]
  },
  {
   "cell_type": "code",
   "execution_count": 181,
   "metadata": {},
   "outputs": [],
   "source": [
    "class Net(nn.Module):\n",
    "    def __init__(self):\n",
    "        super(Net, self).__init__()\n",
    "        self.conv1 = nn.Conv2d(3, 32, 7, padding=1)\n",
    "        self.conv2_bn = nn.BatchNorm2d(32)\n",
    "        self.pool = nn.MaxPool2d(2, 2)\n",
    "        \n",
    "        self.conv2 = nn.Conv2d(32, 64, 3, padding=1)        \n",
    "        self.pool2 = nn.AvgPool2d(3, 3)\n",
    "        \n",
    "        self.fc1 = nn.Linear(64 * 4 * 4 * 16, 1024)\n",
    "        self.fc2 = nn.Linear(1024, 4571) # todo\n",
    "\n",
    "        self.dropout = nn.Dropout(0.5)        \n",
    "\n",
    "    def forward(self, x):\n",
    "        x = self.pool(F.relu(self.conv2_bn(self.conv1(x))))\n",
    "        x = self.pool2(F.relu(self.conv2(x)))\n",
    "        x = x.view(-1, 64 * 4 * 4 * 16)\n",
    "        x = F.relu(self.fc1(x))\n",
    "        x = self.dropout(x)\n",
    "        x = self.fc2(x)\n",
    "\n",
    "        return x"
   ]
  },
  {
   "cell_type": "code",
   "execution_count": 182,
   "metadata": {},
   "outputs": [],
   "source": [
    "model_conv = Net()\n",
    "criterion = nn.BCEWithLogitsLoss()\n",
    "optimizer = optim.Adam(model_conv.parameters(), lr=0.01)\n",
    "exp_lr_scheduler = lr_scheduler.StepLR(optimizer, step_size=3, gamma=0.1)"
   ]
  },
  {
   "cell_type": "markdown",
   "metadata": {},
   "source": [
    "# Resnet 18"
   ]
  },
  {
   "cell_type": "code",
   "execution_count": 20,
   "metadata": {},
   "outputs": [],
   "source": [
    "class WhaleDataset(Dataset):\n",
    "    def __init__(self, datafolder, datatype='train', df=None, transform = transforms.Compose([transforms.ToTensor()]), y=None):\n",
    "        self.datafolder = datafolder\n",
    "        self.datatype = datatype\n",
    "        self.y = y\n",
    "        if self.datatype == 'train':\n",
    "            self.df = df.values\n",
    "        self.image_files_list = [s for s in os.listdir(datafolder)]\n",
    "        self.transform = transform\n",
    "\n",
    "\n",
    "    def __len__(self):\n",
    "        return len(self.image_files_list)\n",
    "    \n",
    "    def __getitem__(self, idx):\n",
    "        if self.datatype == 'train':\n",
    "            img_name = os.path.join(self.datafolder, self.df[idx - 1][0])\n",
    "            label = self.y[idx - 1]\n",
    "            \n",
    "        elif self.datatype == 'test':\n",
    "            img_name = os.path.join(self.datafolder, self.image_files_list[idx - 1])\n",
    "            label = np.zeros((4571,))\n",
    "\n",
    "        image = Image.open(img_name).convert('RGB')\n",
    "        image = self.transform(image)\n",
    "        if self.datatype == 'train':\n",
    "            return image, label\n",
    "        elif self.datatype == 'test':\n",
    "            # so that the images will be in a correct order\n",
    "            return image, label, self.image_files_list[idx]\n",
    "        "
   ]
  },
  {
   "cell_type": "code",
   "execution_count": 21,
   "metadata": {},
   "outputs": [],
   "source": [
    "data_transforms = transforms.Compose([\n",
    "                                      transforms.RandomResizedCrop(224),\n",
    "                                      transforms.ToTensor(),\n",
    "                                      transforms.Normalize(mean=[0.485, 0.456, 0.406],\n",
    "                                                             std=[0.229, 0.224, 0.225])\n",
    "    ])\n",
    "data_transforms_test = transforms.Compose([\n",
    "                                           transforms.RandomResizedCrop(224),\n",
    "                                           transforms.ToTensor(),\n",
    "                                           transforms.Normalize(mean=[0.485, 0.456, 0.406],\n",
    "                                                                 std=[0.229, 0.224, 0.225])\n",
    "])\n"
   ]
  },
  {
   "cell_type": "code",
   "execution_count": 22,
   "metadata": {},
   "outputs": [],
   "source": [
    "train_dataset = WhaleDataset(datafolder='../data/train/', datatype='train', df=train_df, transform=data_transforms, y=y)\n",
    "test_set = WhaleDataset(datafolder='../data/test/', datatype='test', transform=data_transforms_test)\n",
    "\n",
    "train_sampler = SubsetRandomSampler(list(range(len(os.listdir('../data/train')))))\n",
    "valid_sampler = SubsetRandomSampler(list(range(len(os.listdir('../data/test')))))\n",
    "batch_size = 32\n",
    "num_workers = 0\n",
    "\n",
    "train_loader = torch.utils.data.DataLoader(train_dataset, batch_size=batch_size, sampler=train_sampler, num_workers=num_workers)\n",
    "test_loader = torch.utils.data.DataLoader(test_set, batch_size=32, num_workers=num_workers)\n"
   ]
  },
  {
   "cell_type": "code",
   "execution_count": 118,
   "metadata": {},
   "outputs": [],
   "source": [
    "num_classes = 4571\n",
    "model_conv = models.resnet18(pretrained=True)\n",
    "num_ftrs = model_conv.fc.in_features \n",
    "model_conv.fc = nn.Linear(num_ftrs, num_classes) #NUM_CLASSES needs to be changed\n",
    "criterion = nn.BCEWithLogitsLoss()\n",
    "optimizer = optim.Adam(model_conv.parameters(), lr=0.01)\n",
    "exp_lr_scheduler = lr_scheduler.StepLR(optimizer, step_size=3, gamma=0.1)\n"
   ]
  },
  {
   "cell_type": "markdown",
   "metadata": {},
   "source": [
    "# Resnet 101"
   ]
  },
  {
   "cell_type": "code",
   "execution_count": null,
   "metadata": {},
   "outputs": [],
   "source": [
    "class WhaleDataset(Dataset):\n",
    "    def __init__(self, datafolder, datatype='train', df=None, transform = transforms.Compose([transforms.ToTensor()]), y=None):\n",
    "        self.datafolder = datafolder\n",
    "        self.datatype = datatype\n",
    "        self.y = y\n",
    "        if self.datatype == 'train':\n",
    "            self.df = df.values\n",
    "        self.image_files_list = [s for s in os.listdir(datafolder)]\n",
    "        self.transform = transform\n",
    "\n",
    "    def __len__(self):\n",
    "        return len(self.image_files_list)\n",
    "    \n",
    "    def __getitem__(self, idx):\n",
    "        if self.datatype == 'train':\n",
    "            img_name = os.path.join(self.datafolder, self.df[idx - 1][0])\n",
    "            label = self.y[idx - 1]\n",
    "            \n",
    "        elif self.datatype == 'test':\n",
    "            img_name = os.path.join(self.datafolder, self.image_files_list[idx - 1])\n",
    "            label = np.zeros((4571,))\n",
    "\n",
    "        img = cv2.imread(img_name)\n",
    "        img = cv2.cvtColor(img, cv2.COLOR_BGR2RGB)\n",
    "        image = self.transform(image=img)\n",
    "        image = image['image']\n",
    "        if self.datatype == 'train':\n",
    "            return image, label\n",
    "        elif self.datatype == 'test':\n",
    "            # so that the images will be in a correct order\n",
    "            return image, label, self.image_files_list[idx]\n",
    "        "
   ]
  },
  {
   "cell_type": "code",
   "execution_count": null,
   "metadata": {},
   "outputs": [],
   "source": [
    "data_transforms = albumentations.Compose([\n",
    "    albumentations.Resize(160, 320),\n",
    "    albumentations.HorizontalFlip(),\n",
    "    albumentations.RandomBrightness(),\n",
    "    albumentations.ShiftScaleRotate(rotate_limit=15, scale_limit=0.10),\n",
    "    albumentations.JpegCompression(80),\n",
    "    albumentations.HueSaturationValue(),\n",
    "    albumentations.Normalize(),\n",
    "    AT.ToTensor()\n",
    "    ])\n",
    "data_transforms_test = albumentations.Compose([\n",
    "    albumentations.Resize(160, 320),\n",
    "    albumentations.Normalize(),\n",
    "    AT.ToTensor()\n",
    "    ])\n",
    "\n",
    "train_dataset = WhaleDataset(datafolder='../data/train/', datatype='train', df=train_df, transform=data_transforms, y=y)\n",
    "test_set = WhaleDataset(datafolder='../data/test/', datatype='test', transform=data_transforms_test)\n",
    "\n",
    "train_sampler = SubsetRandomSampler(list(range(len(os.listdir('../data/train')))))\n",
    "valid_sampler = SubsetRandomSampler(list(range(len(os.listdir('../data/test')))))\n",
    "batch_size = 10\n",
    "num_workers = 0\n",
    "# prepare data loaders (combine dataset and sampler)\n",
    "train_loader = torch.utils.data.DataLoader(train_dataset, batch_size=batch_size, sampler=train_sampler, num_workers=num_workers)\n",
    "#valid_loader = torch.utils.data.DataLoader(dataset, batch_size=batch_size, sampler=valid_sampler, num_workers=num_workers)\n",
    "test_loader = torch.utils.data.DataLoader(test_set, batch_size=10, num_workers=num_workers)\n"
   ]
  },
  {
   "cell_type": "code",
   "execution_count": null,
   "metadata": {},
   "outputs": [],
   "source": [
    "model_conv = pretrainedmodels.resnext101_64x4d()\n",
    "model_conv.avg_pool = nn.AvgPool2d((5,10))\n",
    "model_conv.last_linear = nn.Linear(model_conv.last_linear.in_features, 4571)\n",
    "\n",
    "\n",
    "model_conv.cuda()\n",
    "criterion = nn.BCEWithLogitsLoss()\n",
    "optimizer = optim.Adam(model_conv.parameters(), lr=0.01)\n",
    "exp_lr_scheduler = lr_scheduler.StepLR(optimizer, step_size=3, gamma=0.1)"
   ]
  },
  {
   "cell_type": "markdown",
   "metadata": {},
   "source": [
    "# Train"
   ]
  },
  {
   "cell_type": "markdown",
   "metadata": {},
   "source": [
    "### Every model use the same one"
   ]
  },
  {
   "cell_type": "code",
   "execution_count": 159,
   "metadata": {},
   "outputs": [
    {
     "name": "stdout",
     "output_type": "stream",
     "text": [
      "Sat Jun  8 15:39:55 2019 Epoch: 1\n",
      "Epoch 1, train loss: 0.0015707067524642028, acc : 0.38091482649842273\n",
      "Sat Jun  8 17:00:44 2019 Epoch: 2\n",
      "Epoch 2, train loss: 0.0014676046662148274, acc : 0.38091482649842273\n",
      "Sat Jun  8 18:24:24 2019 Epoch: 3\n"
     ]
    },
    {
     "ename": "KeyboardInterrupt",
     "evalue": "",
     "output_type": "error",
     "traceback": [
      "\u001b[0;31m---------------------------------------------------------------------------\u001b[0m",
      "\u001b[0;31mKeyboardInterrupt\u001b[0m                         Traceback (most recent call last)",
      "\u001b[0;32m<ipython-input-159-017a16567282>\u001b[0m in \u001b[0;36m<module>\u001b[0;34m()\u001b[0m\n\u001b[1;32m     15\u001b[0m \u001b[0;34m\u001b[0m\u001b[0m\n\u001b[1;32m     16\u001b[0m     \u001b[0;31m# train\u001b[0m\u001b[0;34m\u001b[0m\u001b[0;34m\u001b[0m\u001b[0;34m\u001b[0m\u001b[0m\n\u001b[0;32m---> 17\u001b[0;31m     \u001b[0;32mfor\u001b[0m \u001b[0mbatch_i\u001b[0m\u001b[0;34m,\u001b[0m \u001b[0;34m(\u001b[0m\u001b[0mdata\u001b[0m\u001b[0;34m,\u001b[0m \u001b[0mtarget\u001b[0m\u001b[0;34m)\u001b[0m \u001b[0;32min\u001b[0m \u001b[0menumerate\u001b[0m\u001b[0;34m(\u001b[0m\u001b[0mtrain_loader\u001b[0m\u001b[0;34m)\u001b[0m\u001b[0;34m:\u001b[0m\u001b[0;34m\u001b[0m\u001b[0;34m\u001b[0m\u001b[0m\n\u001b[0m\u001b[1;32m     18\u001b[0m         \u001b[0;31m#print(batch_i)\u001b[0m\u001b[0;34m\u001b[0m\u001b[0;34m\u001b[0m\u001b[0;34m\u001b[0m\u001b[0m\n\u001b[1;32m     19\u001b[0m         \u001b[0mdata\u001b[0m\u001b[0;34m,\u001b[0m \u001b[0mtarget\u001b[0m \u001b[0;34m=\u001b[0m \u001b[0mdata\u001b[0m\u001b[0;34m.\u001b[0m\u001b[0mcuda\u001b[0m\u001b[0;34m(\u001b[0m\u001b[0;34m)\u001b[0m\u001b[0;34m,\u001b[0m \u001b[0mtarget\u001b[0m\u001b[0;34m.\u001b[0m\u001b[0mcuda\u001b[0m\u001b[0;34m(\u001b[0m\u001b[0;34m)\u001b[0m\u001b[0;34m\u001b[0m\u001b[0;34m\u001b[0m\u001b[0m\n",
      "\u001b[0;32m~/.local/lib/python3.6/site-packages/torch/utils/data/dataloader.py\u001b[0m in \u001b[0;36m__next__\u001b[0;34m(self)\u001b[0m\n\u001b[1;32m    558\u001b[0m         \u001b[0;32mif\u001b[0m \u001b[0mself\u001b[0m\u001b[0;34m.\u001b[0m\u001b[0mnum_workers\u001b[0m \u001b[0;34m==\u001b[0m \u001b[0;36m0\u001b[0m\u001b[0;34m:\u001b[0m  \u001b[0;31m# same-process loading\u001b[0m\u001b[0;34m\u001b[0m\u001b[0;34m\u001b[0m\u001b[0m\n\u001b[1;32m    559\u001b[0m             \u001b[0mindices\u001b[0m \u001b[0;34m=\u001b[0m \u001b[0mnext\u001b[0m\u001b[0;34m(\u001b[0m\u001b[0mself\u001b[0m\u001b[0;34m.\u001b[0m\u001b[0msample_iter\u001b[0m\u001b[0;34m)\u001b[0m  \u001b[0;31m# may raise StopIteration\u001b[0m\u001b[0;34m\u001b[0m\u001b[0;34m\u001b[0m\u001b[0m\n\u001b[0;32m--> 560\u001b[0;31m             \u001b[0mbatch\u001b[0m \u001b[0;34m=\u001b[0m \u001b[0mself\u001b[0m\u001b[0;34m.\u001b[0m\u001b[0mcollate_fn\u001b[0m\u001b[0;34m(\u001b[0m\u001b[0;34m[\u001b[0m\u001b[0mself\u001b[0m\u001b[0;34m.\u001b[0m\u001b[0mdataset\u001b[0m\u001b[0;34m[\u001b[0m\u001b[0mi\u001b[0m\u001b[0;34m]\u001b[0m \u001b[0;32mfor\u001b[0m \u001b[0mi\u001b[0m \u001b[0;32min\u001b[0m \u001b[0mindices\u001b[0m\u001b[0;34m]\u001b[0m\u001b[0;34m)\u001b[0m\u001b[0;34m\u001b[0m\u001b[0;34m\u001b[0m\u001b[0m\n\u001b[0m\u001b[1;32m    561\u001b[0m             \u001b[0;32mif\u001b[0m \u001b[0mself\u001b[0m\u001b[0;34m.\u001b[0m\u001b[0mpin_memory\u001b[0m\u001b[0;34m:\u001b[0m\u001b[0;34m\u001b[0m\u001b[0;34m\u001b[0m\u001b[0m\n\u001b[1;32m    562\u001b[0m                 \u001b[0mbatch\u001b[0m \u001b[0;34m=\u001b[0m \u001b[0m_utils\u001b[0m\u001b[0;34m.\u001b[0m\u001b[0mpin_memory\u001b[0m\u001b[0;34m.\u001b[0m\u001b[0mpin_memory_batch\u001b[0m\u001b[0;34m(\u001b[0m\u001b[0mbatch\u001b[0m\u001b[0;34m)\u001b[0m\u001b[0;34m\u001b[0m\u001b[0;34m\u001b[0m\u001b[0m\n",
      "\u001b[0;32m~/.local/lib/python3.6/site-packages/torch/utils/data/_utils/collate.py\u001b[0m in \u001b[0;36mdefault_collate\u001b[0;34m(batch)\u001b[0m\n\u001b[1;32m     66\u001b[0m     \u001b[0;32melif\u001b[0m \u001b[0misinstance\u001b[0m\u001b[0;34m(\u001b[0m\u001b[0mbatch\u001b[0m\u001b[0;34m[\u001b[0m\u001b[0;36m0\u001b[0m\u001b[0;34m]\u001b[0m\u001b[0;34m,\u001b[0m \u001b[0mcontainer_abcs\u001b[0m\u001b[0;34m.\u001b[0m\u001b[0mSequence\u001b[0m\u001b[0;34m)\u001b[0m\u001b[0;34m:\u001b[0m\u001b[0;34m\u001b[0m\u001b[0;34m\u001b[0m\u001b[0m\n\u001b[1;32m     67\u001b[0m         \u001b[0mtransposed\u001b[0m \u001b[0;34m=\u001b[0m \u001b[0mzip\u001b[0m\u001b[0;34m(\u001b[0m\u001b[0;34m*\u001b[0m\u001b[0mbatch\u001b[0m\u001b[0;34m)\u001b[0m\u001b[0;34m\u001b[0m\u001b[0;34m\u001b[0m\u001b[0m\n\u001b[0;32m---> 68\u001b[0;31m         \u001b[0;32mreturn\u001b[0m \u001b[0;34m[\u001b[0m\u001b[0mdefault_collate\u001b[0m\u001b[0;34m(\u001b[0m\u001b[0msamples\u001b[0m\u001b[0;34m)\u001b[0m \u001b[0;32mfor\u001b[0m \u001b[0msamples\u001b[0m \u001b[0;32min\u001b[0m \u001b[0mtransposed\u001b[0m\u001b[0;34m]\u001b[0m\u001b[0;34m\u001b[0m\u001b[0;34m\u001b[0m\u001b[0m\n\u001b[0m\u001b[1;32m     69\u001b[0m \u001b[0;34m\u001b[0m\u001b[0m\n\u001b[1;32m     70\u001b[0m     \u001b[0;32mraise\u001b[0m \u001b[0mTypeError\u001b[0m\u001b[0;34m(\u001b[0m\u001b[0;34m(\u001b[0m\u001b[0merror_msg_fmt\u001b[0m\u001b[0;34m.\u001b[0m\u001b[0mformat\u001b[0m\u001b[0;34m(\u001b[0m\u001b[0mtype\u001b[0m\u001b[0;34m(\u001b[0m\u001b[0mbatch\u001b[0m\u001b[0;34m[\u001b[0m\u001b[0;36m0\u001b[0m\u001b[0;34m]\u001b[0m\u001b[0;34m)\u001b[0m\u001b[0;34m)\u001b[0m\u001b[0;34m)\u001b[0m\u001b[0;34m)\u001b[0m\u001b[0;34m\u001b[0m\u001b[0;34m\u001b[0m\u001b[0m\n",
      "\u001b[0;32m~/.local/lib/python3.6/site-packages/torch/utils/data/_utils/collate.py\u001b[0m in \u001b[0;36m<listcomp>\u001b[0;34m(.0)\u001b[0m\n\u001b[1;32m     66\u001b[0m     \u001b[0;32melif\u001b[0m \u001b[0misinstance\u001b[0m\u001b[0;34m(\u001b[0m\u001b[0mbatch\u001b[0m\u001b[0;34m[\u001b[0m\u001b[0;36m0\u001b[0m\u001b[0;34m]\u001b[0m\u001b[0;34m,\u001b[0m \u001b[0mcontainer_abcs\u001b[0m\u001b[0;34m.\u001b[0m\u001b[0mSequence\u001b[0m\u001b[0;34m)\u001b[0m\u001b[0;34m:\u001b[0m\u001b[0;34m\u001b[0m\u001b[0;34m\u001b[0m\u001b[0m\n\u001b[1;32m     67\u001b[0m         \u001b[0mtransposed\u001b[0m \u001b[0;34m=\u001b[0m \u001b[0mzip\u001b[0m\u001b[0;34m(\u001b[0m\u001b[0;34m*\u001b[0m\u001b[0mbatch\u001b[0m\u001b[0;34m)\u001b[0m\u001b[0;34m\u001b[0m\u001b[0;34m\u001b[0m\u001b[0m\n\u001b[0;32m---> 68\u001b[0;31m         \u001b[0;32mreturn\u001b[0m \u001b[0;34m[\u001b[0m\u001b[0mdefault_collate\u001b[0m\u001b[0;34m(\u001b[0m\u001b[0msamples\u001b[0m\u001b[0;34m)\u001b[0m \u001b[0;32mfor\u001b[0m \u001b[0msamples\u001b[0m \u001b[0;32min\u001b[0m \u001b[0mtransposed\u001b[0m\u001b[0;34m]\u001b[0m\u001b[0;34m\u001b[0m\u001b[0;34m\u001b[0m\u001b[0m\n\u001b[0m\u001b[1;32m     69\u001b[0m \u001b[0;34m\u001b[0m\u001b[0m\n\u001b[1;32m     70\u001b[0m     \u001b[0;32mraise\u001b[0m \u001b[0mTypeError\u001b[0m\u001b[0;34m(\u001b[0m\u001b[0;34m(\u001b[0m\u001b[0merror_msg_fmt\u001b[0m\u001b[0;34m.\u001b[0m\u001b[0mformat\u001b[0m\u001b[0;34m(\u001b[0m\u001b[0mtype\u001b[0m\u001b[0;34m(\u001b[0m\u001b[0mbatch\u001b[0m\u001b[0;34m[\u001b[0m\u001b[0;36m0\u001b[0m\u001b[0;34m]\u001b[0m\u001b[0;34m)\u001b[0m\u001b[0;34m)\u001b[0m\u001b[0;34m)\u001b[0m\u001b[0;34m)\u001b[0m\u001b[0;34m\u001b[0m\u001b[0;34m\u001b[0m\u001b[0m\n",
      "\u001b[0;32m~/.local/lib/python3.6/site-packages/torch/utils/data/_utils/collate.py\u001b[0m in \u001b[0;36mdefault_collate\u001b[0;34m(batch)\u001b[0m\n\u001b[1;32m     41\u001b[0m             \u001b[0mstorage\u001b[0m \u001b[0;34m=\u001b[0m \u001b[0mbatch\u001b[0m\u001b[0;34m[\u001b[0m\u001b[0;36m0\u001b[0m\u001b[0;34m]\u001b[0m\u001b[0;34m.\u001b[0m\u001b[0mstorage\u001b[0m\u001b[0;34m(\u001b[0m\u001b[0;34m)\u001b[0m\u001b[0;34m.\u001b[0m\u001b[0m_new_shared\u001b[0m\u001b[0;34m(\u001b[0m\u001b[0mnumel\u001b[0m\u001b[0;34m)\u001b[0m\u001b[0;34m\u001b[0m\u001b[0;34m\u001b[0m\u001b[0m\n\u001b[1;32m     42\u001b[0m             \u001b[0mout\u001b[0m \u001b[0;34m=\u001b[0m \u001b[0mbatch\u001b[0m\u001b[0;34m[\u001b[0m\u001b[0;36m0\u001b[0m\u001b[0;34m]\u001b[0m\u001b[0;34m.\u001b[0m\u001b[0mnew\u001b[0m\u001b[0;34m(\u001b[0m\u001b[0mstorage\u001b[0m\u001b[0;34m)\u001b[0m\u001b[0;34m\u001b[0m\u001b[0;34m\u001b[0m\u001b[0m\n\u001b[0;32m---> 43\u001b[0;31m         \u001b[0;32mreturn\u001b[0m \u001b[0mtorch\u001b[0m\u001b[0;34m.\u001b[0m\u001b[0mstack\u001b[0m\u001b[0;34m(\u001b[0m\u001b[0mbatch\u001b[0m\u001b[0;34m,\u001b[0m \u001b[0;36m0\u001b[0m\u001b[0;34m,\u001b[0m \u001b[0mout\u001b[0m\u001b[0;34m=\u001b[0m\u001b[0mout\u001b[0m\u001b[0;34m)\u001b[0m\u001b[0;34m\u001b[0m\u001b[0;34m\u001b[0m\u001b[0m\n\u001b[0m\u001b[1;32m     44\u001b[0m     \u001b[0;32melif\u001b[0m \u001b[0melem_type\u001b[0m\u001b[0;34m.\u001b[0m\u001b[0m__module__\u001b[0m \u001b[0;34m==\u001b[0m \u001b[0;34m'numpy'\u001b[0m \u001b[0;32mand\u001b[0m \u001b[0melem_type\u001b[0m\u001b[0;34m.\u001b[0m\u001b[0m__name__\u001b[0m \u001b[0;34m!=\u001b[0m \u001b[0;34m'str_'\u001b[0m\u001b[0;31m \u001b[0m\u001b[0;31m\\\u001b[0m\u001b[0;34m\u001b[0m\u001b[0;34m\u001b[0m\u001b[0m\n\u001b[1;32m     45\u001b[0m             \u001b[0;32mand\u001b[0m \u001b[0melem_type\u001b[0m\u001b[0;34m.\u001b[0m\u001b[0m__name__\u001b[0m \u001b[0;34m!=\u001b[0m \u001b[0;34m'string_'\u001b[0m\u001b[0;34m:\u001b[0m\u001b[0;34m\u001b[0m\u001b[0;34m\u001b[0m\u001b[0m\n",
      "\u001b[0;31mKeyboardInterrupt\u001b[0m: "
     ]
    }
   ],
   "source": [
    "model_conv.cuda()\n",
    "n_epochs = 3\n",
    "acc = [0] * (n_epochs + 1)\n",
    "total = list(0. for i in range(train_df.Id.nunique()))\n",
    "correct = list(0. for i in range(train_df.Id.nunique()))\n",
    "llloss = [0] * (n_epochs + 1)\n",
    "\n",
    "for epoch in range(1, n_epochs+1):\n",
    "    print(time.ctime(), 'Epoch:', epoch)\n",
    "\n",
    "    train_loss = []\n",
    "    valid_loss = []\n",
    "    exp_lr_scheduler.step()\n",
    "    accuracy = []\n",
    "    \n",
    "    # train\n",
    "    for batch_i, (data, target) in enumerate(train_loader):\n",
    "        #print(batch_i)\n",
    "        data, target = data.cuda(), target.cuda()\n",
    "\n",
    "        optimizer.zero_grad()\n",
    "        output = model_conv(data)\n",
    "        predicted = torch.argmax(output, 1)\n",
    "\n",
    "        res = (predicted == torch.argmax(target, 1)).squeeze()\n",
    "        \n",
    "        for label_idx in range(len(target)):\n",
    "            \n",
    "            label_single = torch.argmax(target, 1)[label_idx]\n",
    "            correct[label_single] += res[label_idx].item()\n",
    "            total[label_single] += 1\n",
    "        \n",
    "        loss = criterion(output, target.float())\n",
    "        train_loss.append(loss.item())\n",
    "        loss.backward()\n",
    "        optimizer.step()\n",
    "          \n",
    "    llloss[epoch] = np.mean(train_loss)\n",
    "    acc[epoch] = sum(correct)/sum(total)\n",
    "    print(f'Epoch {epoch}, train loss: {llloss[epoch]}, acc : {acc[epoch]}')\n",
    "    \n",
    "acc_base_train = acc\n",
    "loss_base_train = llloss"
   ]
  },
  {
   "cell_type": "code",
   "execution_count": 160,
   "metadata": {},
   "outputs": [],
   "source": [
    "net_name = 'Transfer_learning'"
   ]
  },
  {
   "cell_type": "code",
   "execution_count": 161,
   "metadata": {},
   "outputs": [],
   "source": [
    "torch.save(model_conv.state_dict(), net_name + '.pth')\n",
    "#model_conv.load_state_dict(torch.load(net_name + '.pth'))"
   ]
  },
  {
   "cell_type": "markdown",
   "metadata": {},
   "source": [
    "### Plot"
   ]
  },
  {
   "cell_type": "code",
   "execution_count": 162,
   "metadata": {},
   "outputs": [],
   "source": [
    "acc_base_train = acc\n",
    "loss_base_train = llloss"
   ]
  },
  {
   "cell_type": "code",
   "execution_count": 163,
   "metadata": {},
   "outputs": [
    {
     "data": {
      "image/png": "[encoded data removed]",
      "text/plain": [
       "<Figure size 432x288 with 1 Axes>"
      ]
     },
     "metadata": {
      "needs_background": "light"
     },
     "output_type": "display_data"
    }
   ],
   "source": [
    "n_epochs = 2\n",
    "epoch = range(1, n_epochs + 1)\n",
    "plt.plot(epoch, acc_base_train[1:n_epochs + 1], label = 'Accuracy')\n",
    "\n",
    "plt.xlabel('Epoch')\n",
    "plt.title(net_name + ' ACC')\n",
    "plt.legend()\n",
    "plt.savefig(f'../result/{net_name}_ACC_{time.ctime()}.jpg')#,dpi = 900)\n",
    "plt.show()"
   ]
  },
  {
   "cell_type": "code",
   "execution_count": 164,
   "metadata": {},
   "outputs": [
    {
     "data": {
      "image/png": "[encoded data removed]",
      "text/plain": [
       "<Figure size 432x288 with 1 Axes>"
      ]
     },
     "metadata": {
      "needs_background": "light"
     },
     "output_type": "display_data"
    }
   ],
   "source": [
    "plt.plot(epoch, loss_base_train[1:n_epochs + 1], label = 'Loss')\n",
    "plt.xlabel('Epoch')\n",
    "plt.title(net_name + ' LOSS')\n",
    "plt.legend()\n",
    "plt.savefig(f'../result/{net_name}_LOSS_{time.ctime()}.jpg')#,dpi = 900)\n",
    "plt.show()"
   ]
  },
  {
   "cell_type": "markdown",
   "metadata": {},
   "source": [
    "# get the augmentated images"
   ]
  },
  {
   "cell_type": "code",
   "execution_count": null,
   "metadata": {},
   "outputs": [],
   "source": [
    "import matplotlib\n",
    "\n",
    "for batch_i, (data, target) in enumerate(train_loader):\n",
    "    da = data.cpu().numpy()[-1][-1]\n",
    "    print(da.shape)\n",
    "    matplotlib.image.imsave('../pic/' + str(batch_i) + '.png', da)"
   ]
  },
  {
   "cell_type": "markdown",
   "metadata": {},
   "source": [
    "# CNN Extraction"
   ]
  },
  {
   "cell_type": "code",
   "execution_count": 3,
   "metadata": {},
   "outputs": [],
   "source": [
    "import numpy as np \n",
    "import pandas as pd \n",
    "import os\n",
    "import matplotlib.pyplot as plt\n",
    "import matplotlib.image as mplimg\n",
    "from matplotlib.pyplot import imshow\n",
    "\n",
    "from sklearn.preprocessing import LabelEncoder\n",
    "from sklearn.preprocessing import OneHotEncoder\n",
    "\n",
    "import torch\n",
    "from torch.utils.data import TensorDataset, DataLoader,Dataset\n",
    "import torch.nn as nn\n",
    "import torch.nn.functional as F\n",
    "import torchvision\n",
    "import torchvision.transforms as transforms\n",
    "import torch.optim as optim\n",
    "from torch.optim import lr_scheduler\n",
    "import time \n",
    "import tqdm\n",
    "from PIL import Image\n",
    "train_on_gpu = True\n",
    "from torch.utils.data.sampler import SubsetRandomSampler\n",
    "from torch.optim.lr_scheduler import StepLR, ReduceLROnPlateau, CosineAnnealingLR\n",
    "\n",
    "import warnings\n",
    "warnings.simplefilter(\"ignore\", category=DeprecationWarning)\n",
    "\n",
    "from collections import OrderedDict\n",
    "import cv2\n",
    "import albumentations\n",
    "from albumentations import torch as AT\n",
    "import pretrainedmodels\n",
    "import csv\n",
    "from sklearn.neighbors import KNeighborsClassifier\n",
    "from torch.autograd import Variable\n",
    "from torchvision.utils import save_image\n",
    "from sklearn.externals import joblib\n",
    "from sklearn.svm import LinearSVC\n",
    "from torchvision import models"
   ]
  },
  {
   "cell_type": "code",
   "execution_count": 4,
   "metadata": {},
   "outputs": [],
   "source": [
    "class WhaleDataset(Dataset):\n",
    "    def __init__(self, datafolder, datatype='train', df=None, transform = transforms.Compose([transforms.ToTensor()]), y=None):\n",
    "        self.datafolder = datafolder\n",
    "        self.datatype = datatype\n",
    "        self.y = y\n",
    "        if self.datatype == 'train':\n",
    "            self.df = df.values\n",
    "        self.image_files_list = [s for s in os.listdir(datafolder)]\n",
    "        self.transform = transform\n",
    "\n",
    "\n",
    "    def __len__(self):\n",
    "        return len(self.image_files_list)\n",
    "    \n",
    "    def __getitem__(self, idx):\n",
    "        if self.datatype == 'train':\n",
    "            img_name = os.path.join(self.datafolder, self.df[idx - 1][0])\n",
    "            label = self.y[idx - 1]\n",
    "            \n",
    "        elif self.datatype == 'test':\n",
    "            img_name = os.path.join(self.datafolder, self.image_files_list[idx - 1])\n",
    "            label = np.zeros((4571,))\n",
    "\n",
    "        image = Image.open(img_name).convert('RGB')\n",
    "        image = self.transform(image)\n",
    "        if self.datatype == 'train':\n",
    "            return image, label\n",
    "        elif self.datatype == 'test':\n",
    "            # so that the images will be in a correct order\n",
    "            return image, label, self.image_files_list[idx]"
   ]
  },
  {
   "cell_type": "code",
   "execution_count": 5,
   "metadata": {},
   "outputs": [],
   "source": [
    "data_transforms = transforms.Compose([\n",
    "                                      transforms.Resize((100, 100)),\n",
    "                                      transforms.ToTensor(),\n",
    "                                      transforms.Normalize(mean=[0.485, 0.456, 0.406],\n",
    "                                                             std=[0.229, 0.224, 0.225])\n",
    "    ])\n",
    "data_transforms_test = transforms.Compose([\n",
    "                                           transforms.Resize((100, 100)),\n",
    "                                           transforms.ToTensor(),\n",
    "                                           transforms.Normalize(mean=[0.485, 0.456, 0.406],\n",
    "                                                                 std=[0.229, 0.224, 0.225])\n",
    "])\n"
   ]
  },
  {
   "cell_type": "code",
   "execution_count": 16,
   "metadata": {},
   "outputs": [],
   "source": [
    "train_dataset = WhaleDataset(datafolder='./whaletrain/', datatype='train', df=train_df, transform=data_transforms, y=y)\n",
    "test_set = WhaleDataset(datafolder='./whaletest/', datatype='train', df=test_df, transform=data_transforms_test,y = y_ts)\n",
    "\n",
    "train_sampler = SubsetRandomSampler(list(range(len(train_df))))#len(os.listdir('./whaletrain')))))\n",
    "valid_sampler = SubsetRandomSampler(list(range(len(train_df))))#len(os.listdir('./whaletrain')))))\n",
    "batch_size = 32\n",
    "num_workers = 0\n",
    "\n",
    "train_loader = torch.utils.data.DataLoader(train_dataset, batch_size=batch_size, sampler=train_sampler, num_workers=num_workers)\n",
    "# less size for test loader.\n",
    "test_loader = torch.utils.data.DataLoader(test_set, batch_size=32, num_workers=num_workers)\n"
   ]
  },
  {
   "cell_type": "code",
   "execution_count": 17,
   "metadata": {},
   "outputs": [],
   "source": [
    "class Net_ext(nn.Module):\n",
    "    def __init__(self, num_classes):\n",
    "        super(Net_ext, self).__init__()\n",
    "        self.conv1 = nn.Conv2d(3, 32, 7, padding=1)\n",
    "        self.conv2_bn = nn.BatchNorm2d(32)\n",
    "        self.pool = nn.MaxPool2d(2, 2)\n",
    "        \n",
    "        self.conv2 = nn.Conv2d(32, 64, 3, padding=1)        \n",
    "        self.pool2 = nn.AvgPool2d(3, 3)\n",
    "        \n",
    "        self.fc1 = nn.Linear(64 * 4 * 4 * 16, 1024)\n",
    "        self.fc2 = nn.Linear(1024, num_classes)\n",
    "\n",
    "        self.dropout = nn.Dropout(0.5)        \n",
    "\n",
    "    def forward(self, x):\n",
    "        x = self.pool(F.relu(self.conv2_bn(self.conv1(x))))\n",
    "        x = self.pool2(F.relu(self.conv2(x)))\n",
    "#         x = x.view(-1, 64 * 4 * 4 * 16)\n",
    "#         x = F.relu(self.fc1(x))\n",
    "#         x = self.dropout(x)\n",
    "#         x = self.fc2(x)\n",
    "\n",
    "        return x"
   ]
  },
  {
   "cell_type": "code",
   "execution_count": 19,
   "metadata": {},
   "outputs": [],
   "source": [
    "model_conv_ext = Net_ext(4571)\n",
    "model_conv_ext.load_state_dict(torch.load('./model/simplecnn.pkl'))"
   ]
  },
  {
   "cell_type": "markdown",
   "metadata": {},
   "source": [
    "## Extraction"
   ]
  },
  {
   "cell_type": "code",
   "execution_count": 20,
   "metadata": {},
   "outputs": [
    {
     "name": "stdout",
     "output_type": "stream",
     "text": [
      "exctrating data in batch0\n",
      "exctrating data in batch1\n",
      "exctrating data in batch2\n",
      "exctrating data in batch3\n",
      "exctrating data in batch4\n",
      "exctrating data in batch5\n",
      "exctrating data in batch6\n",
      "exctrating data in batch7\n",
      "exctrating data in batch8\n",
      "exctrating data in batch9\n",
      "exctrating data in batch10\n",
      "exctrating data in batch11\n",
      "exctrating data in batch12\n",
      "exctrating data in batch13\n",
      "exctrating data in batch14\n",
      "exctrating data in batch15\n",
      "exctrating data in batch16\n",
      "exctrating data in batch17\n",
      "exctrating data in batch18\n",
      "exctrating data in batch19\n",
      "exctrating data in batch20\n",
      "exctrating data in batch21\n",
      "exctrating data in batch22\n",
      "exctrating data in batch23\n",
      "exctrating data in batch24\n",
      "exctrating data in batch25\n",
      "exctrating data in batch26\n",
      "exctrating data in batch27\n",
      "exctrating data in batch28\n",
      "exctrating data in batch29\n",
      "exctrating data in batch30\n",
      "exctrating data in batch31\n",
      "exctrating data in batch32\n",
      "exctrating data in batch33\n",
      "exctrating data in batch34\n",
      "exctrating data in batch35\n",
      "exctrating data in batch36\n",
      "exctrating data in batch37\n",
      "exctrating data in batch38\n",
      "exctrating data in batch39\n",
      "exctrating data in batch40\n",
      "exctrating data in batch41\n",
      "exctrating data in batch42\n",
      "exctrating data in batch43\n",
      "exctrating data in batch44\n",
      "exctrating data in batch45\n",
      "exctrating data in batch46\n",
      "exctrating data in batch47\n",
      "exctrating data in batch48\n",
      "exctrating data in batch49\n",
      "exctrating data in batch50\n",
      "exctrating data in batch51\n",
      "exctrating data in batch52\n",
      "exctrating data in batch53\n",
      "exctrating data in batch54\n",
      "exctrating data in batch55\n",
      "exctrating data in batch56\n",
      "exctrating data in batch57\n",
      "exctrating data in batch58\n",
      "exctrating data in batch59\n",
      "exctrating data in batch60\n",
      "exctrating data in batch61\n",
      "exctrating data in batch62\n",
      "exctrating data in batch63\n",
      "exctrating data in batch64\n",
      "exctrating data in batch65\n",
      "exctrating data in batch66\n",
      "exctrating data in batch67\n",
      "exctrating data in batch68\n",
      "exctrating data in batch69\n",
      "exctrating data in batch70\n",
      "exctrating data in batch71\n",
      "exctrating data in batch72\n",
      "exctrating data in batch73\n",
      "exctrating data in batch74\n",
      "exctrating data in batch75\n",
      "exctrating data in batch76\n",
      "exctrating data in batch77\n",
      "exctrating data in batch78\n",
      "exctrating data in batch79\n",
      "exctrating data in batch80\n",
      "exctrating data in batch81\n",
      "exctrating data in batch82\n",
      "exctrating data in batch83\n",
      "exctrating data in batch84\n",
      "exctrating data in batch85\n",
      "exctrating data in batch86\n",
      "exctrating data in batch87\n",
      "exctrating data in batch88\n",
      "exctrating data in batch89\n",
      "exctrating data in batch90\n",
      "exctrating data in batch91\n",
      "exctrating data in batch92\n",
      "exctrating data in batch93\n",
      "exctrating data in batch94\n",
      "exctrating data in batch95\n",
      "exctrating data in batch96\n",
      "exctrating data in batch97\n",
      "exctrating data in batch98\n",
      "exctrating data in batch99\n",
      "exctrating data in batch100\n",
      "exctrating data in batch101\n",
      "exctrating data in batch102\n",
      "exctrating data in batch103\n",
      "exctrating data in batch104\n",
      "exctrating data in batch105\n",
      "exctrating data in batch106\n",
      "exctrating data in batch107\n",
      "exctrating data in batch108\n",
      "exctrating data in batch109\n",
      "exctrating data in batch110\n",
      "exctrating data in batch111\n",
      "exctrating data in batch112\n",
      "exctrating data in batch113\n",
      "exctrating data in batch114\n",
      "exctrating data in batch115\n",
      "exctrating data in batch116\n",
      "exctrating data in batch117\n",
      "exctrating data in batch118\n",
      "exctrating data in batch119\n",
      "exctrating data in batch120\n",
      "exctrating data in batch121\n",
      "exctrating data in batch122\n",
      "exctrating data in batch123\n",
      "exctrating data in batch124\n",
      "exctrating data in batch125\n",
      "exctrating data in batch126\n",
      "exctrating data in batch127\n",
      "exctrating data in batch128\n",
      "exctrating data in batch129\n",
      "exctrating data in batch130\n",
      "exctrating data in batch131\n",
      "exctrating data in batch132\n",
      "exctrating data in batch133\n",
      "exctrating data in batch134\n",
      "exctrating data in batch135\n",
      "exctrating data in batch136\n",
      "exctrating data in batch137\n",
      "exctrating data in batch138\n",
      "exctrating data in batch139\n",
      "exctrating data in batch140\n",
      "exctrating data in batch141\n",
      "exctrating data in batch142\n",
      "exctrating data in batch143\n",
      "exctrating data in batch144\n",
      "exctrating data in batch145\n",
      "exctrating data in batch146\n",
      "exctrating data in batch147\n",
      "exctrating data in batch148\n",
      "exctrating data in batch149\n",
      "exctrating data in batch150\n",
      "exctrating data in batch151\n",
      "exctrating data in batch152\n",
      "exctrating data in batch153\n",
      "exctrating data in batch154\n",
      "exctrating data in batch155\n",
      "exctrating data in batch156\n",
      "exctrating data in batch157\n",
      "exctrating data in batch158\n",
      "exctrating data in batch159\n",
      "exctrating data in batch160\n",
      "exctrating data in batch161\n",
      "exctrating data in batch162\n",
      "exctrating data in batch163\n",
      "exctrating data in batch164\n",
      "exctrating data in batch165\n",
      "exctrating data in batch166\n",
      "exctrating data in batch167\n",
      "exctrating data in batch168\n",
      "exctrating data in batch169\n",
      "exctrating data in batch170\n",
      "exctrating data in batch171\n",
      "exctrating data in batch172\n",
      "exctrating data in batch173\n",
      "exctrating data in batch174\n",
      "exctrating data in batch175\n",
      "exctrating data in batch176\n",
      "exctrating data in batch177\n",
      "exctrating data in batch178\n",
      "exctrating data in batch179\n",
      "exctrating data in batch180\n",
      "exctrating data in batch181\n",
      "exctrating data in batch182\n",
      "exctrating data in batch183\n",
      "exctrating data in batch184\n",
      "exctrating data in batch185\n",
      "exctrating data in batch186\n",
      "exctrating data in batch187\n",
      "exctrating data in batch188\n",
      "exctrating data in batch189\n",
      "exctrating data in batch190\n",
      "exctrating data in batch191\n",
      "exctrating data in batch192\n",
      "exctrating data in batch193\n",
      "exctrating data in batch194\n",
      "exctrating data in batch195\n",
      "exctrating data in batch196\n",
      "exctrating data in batch197\n",
      "exctrating data in batch198\n",
      "exctrating data in batch199\n",
      "exctrating data in batch200\n",
      "exctrating data in batch201\n",
      "exctrating data in batch202\n",
      "exctrating data in batch203\n",
      "exctrating data in batch204\n",
      "exctrating data in batch205\n",
      "exctrating data in batch206\n",
      "exctrating data in batch207\n",
      "exctrating data in batch208\n",
      "exctrating data in batch209\n",
      "exctrating data in batch210\n",
      "exctrating data in batch211\n",
      "exctrating data in batch212\n",
      "exctrating data in batch213\n",
      "exctrating data in batch214\n",
      "exctrating data in batch215\n",
      "exctrating data in batch216\n",
      "exctrating data in batch217\n",
      "exctrating data in batch218\n",
      "exctrating data in batch219\n",
      "exctrating data in batch220\n",
      "exctrating data in batch221\n",
      "exctrating data in batch222\n",
      "exctrating data in batch223\n",
      "exctrating data in batch224\n",
      "exctrating data in batch225\n",
      "exctrating data in batch226\n",
      "exctrating data in batch227\n",
      "exctrating data in batch228\n",
      "exctrating data in batch229\n",
      "exctrating data in batch230\n",
      "exctrating data in batch231\n",
      "exctrating data in batch232\n",
      "exctrating data in batch233\n",
      "exctrating data in batch234\n",
      "exctrating data in batch235\n",
      "exctrating data in batch236\n",
      "exctrating data in batch237\n",
      "exctrating data in batch238\n",
      "exctrating data in batch239\n",
      "exctrating data in batch240\n",
      "exctrating data in batch241\n",
      "exctrating data in batch242\n",
      "exctrating data in batch243\n",
      "exctrating data in batch244\n",
      "exctrating data in batch245\n",
      "exctrating data in batch246\n",
      "exctrating data in batch247\n",
      "exctrating data in batch248\n",
      "exctrating data in batch249\n",
      "exctrating data in batch250\n",
      "exctrating data in batch251\n",
      "exctrating data in batch252\n",
      "exctrating data in batch253\n",
      "exctrating data in batch254\n",
      "exctrating data in batch255\n",
      "exctrating data in batch256\n",
      "exctrating data in batch257\n",
      "exctrating data in batch258\n",
      "exctrating data in batch259\n",
      "exctrating data in batch260\n",
      "exctrating data in batch261\n",
      "exctrating data in batch262\n",
      "exctrating data in batch263\n",
      "exctrating data in batch264\n",
      "exctrating data in batch265\n",
      "exctrating data in batch266\n",
      "exctrating data in batch267\n",
      "exctrating data in batch268\n",
      "exctrating data in batch269\n",
      "exctrating data in batch270\n",
      "exctrating data in batch271\n",
      "exctrating data in batch272\n",
      "exctrating data in batch273\n",
      "exctrating data in batch274\n",
      "exctrating data in batch275\n",
      "exctrating data in batch276\n",
      "exctrating data in batch277\n",
      "exctrating data in batch278\n",
      "exctrating data in batch279\n",
      "exctrating data in batch280\n",
      "exctrating data in batch281\n",
      "exctrating data in batch282\n",
      "exctrating data in batch283\n",
      "exctrating data in batch284\n",
      "exctrating data in batch285\n",
      "exctrating data in batch286\n",
      "exctrating data in batch287\n",
      "exctrating data in batch288\n",
      "exctrating data in batch289\n",
      "exctrating data in batch290\n",
      "exctrating data in batch291\n",
      "exctrating data in batch292\n",
      "exctrating data in batch293\n",
      "exctrating data in batch294\n",
      "exctrating data in batch295\n",
      "exctrating data in batch296\n"
     ]
    },
    {
     "name": "stdout",
     "output_type": "stream",
     "text": [
      "exctrating data in batch297\n",
      "exctrating data in batch298\n",
      "exctrating data in batch299\n",
      "exctrating data in batch300\n",
      "exctrating data in batch301\n",
      "exctrating data in batch302\n",
      "exctrating data in batch303\n",
      "exctrating data in batch304\n",
      "exctrating data in batch305\n",
      "exctrating data in batch306\n",
      "exctrating data in batch307\n",
      "exctrating data in batch308\n",
      "exctrating data in batch309\n",
      "exctrating data in batch310\n",
      "exctrating data in batch311\n",
      "exctrating data in batch312\n",
      "exctrating data in batch313\n",
      "exctrating data in batch314\n",
      "exctrating data in batch315\n",
      "exctrating data in batch316\n",
      "exctrating data in batch317\n",
      "exctrating data in batch318\n",
      "exctrating data in batch319\n",
      "exctrating data in batch320\n",
      "exctrating data in batch321\n",
      "exctrating data in batch322\n",
      "exctrating data in batch323\n",
      "exctrating data in batch324\n",
      "exctrating data in batch325\n",
      "exctrating data in batch326\n",
      "exctrating data in batch327\n",
      "exctrating data in batch328\n",
      "exctrating data in batch329\n",
      "exctrating data in batch330\n",
      "exctrating data in batch331\n",
      "exctrating data in batch332\n",
      "exctrating data in batch333\n",
      "exctrating data in batch334\n",
      "exctrating data in batch335\n",
      "exctrating data in batch336\n",
      "exctrating data in batch337\n",
      "exctrating data in batch338\n",
      "exctrating data in batch339\n",
      "exctrating data in batch340\n",
      "exctrating data in batch341\n",
      "exctrating data in batch342\n",
      "exctrating data in batch343\n",
      "exctrating data in batch344\n",
      "exctrating data in batch345\n",
      "exctrating data in batch346\n",
      "exctrating data in batch347\n",
      "exctrating data in batch348\n",
      "exctrating data in batch349\n",
      "exctrating data in batch350\n",
      "exctrating data in batch351\n",
      "exctrating data in batch352\n",
      "exctrating data in batch353\n",
      "exctrating data in batch354\n",
      "exctrating data in batch355\n",
      "exctrating data in batch356\n",
      "exctrating data in batch357\n",
      "exctrating data in batch358\n",
      "exctrating data in batch359\n",
      "exctrating data in batch360\n",
      "exctrating data in batch361\n",
      "exctrating data in batch362\n",
      "exctrating data in batch363\n",
      "exctrating data in batch364\n",
      "exctrating data in batch365\n",
      "exctrating data in batch366\n",
      "exctrating data in batch367\n",
      "exctrating data in batch368\n",
      "exctrating data in batch369\n",
      "exctrating data in batch370\n",
      "exctrating data in batch371\n",
      "exctrating data in batch372\n",
      "exctrating data in batch373\n",
      "exctrating data in batch374\n",
      "exctrating data in batch375\n",
      "exctrating data in batch376\n",
      "exctrating data in batch377\n",
      "exctrating data in batch378\n",
      "exctrating data in batch379\n",
      "exctrating data in batch380\n",
      "exctrating data in batch381\n",
      "exctrating data in batch382\n",
      "exctrating data in batch383\n",
      "exctrating data in batch384\n",
      "exctrating data in batch385\n",
      "exctrating data in batch386\n",
      "exctrating data in batch387\n",
      "exctrating data in batch388\n",
      "exctrating data in batch389\n",
      "exctrating data in batch390\n",
      "exctrating data in batch391\n",
      "exctrating data in batch392\n",
      "exctrating data in batch393\n",
      "exctrating data in batch394\n",
      "exctrating data in batch395\n",
      "exctrating data in batch396\n",
      "exctrating data in batch397\n",
      "exctrating data in batch398\n",
      "exctrating data in batch399\n",
      "exctrating data in batch400\n",
      "exctrating data in batch401\n",
      "exctrating data in batch402\n",
      "exctrating data in batch403\n",
      "exctrating data in batch404\n",
      "exctrating data in batch405\n",
      "exctrating data in batch406\n",
      "exctrating data in batch407\n",
      "exctrating data in batch408\n",
      "exctrating data in batch409\n",
      "exctrating data in batch410\n",
      "exctrating data in batch411\n",
      "exctrating data in batch412\n",
      "exctrating data in batch413\n",
      "exctrating data in batch414\n",
      "exctrating data in batch415\n",
      "exctrating data in batch416\n",
      "exctrating data in batch417\n",
      "exctrating data in batch418\n",
      "exctrating data in batch419\n",
      "exctrating data in batch420\n",
      "exctrating data in batch421\n",
      "exctrating data in batch422\n",
      "exctrating data in batch423\n",
      "exctrating data in batch424\n",
      "exctrating data in batch425\n",
      "exctrating data in batch426\n",
      "exctrating data in batch427\n",
      "exctrating data in batch428\n",
      "exctrating data in batch429\n",
      "exctrating data in batch430\n",
      "exctrating data in batch431\n",
      "exctrating data in batch432\n",
      "exctrating data in batch433\n",
      "exctrating data in batch434\n",
      "exctrating data in batch435\n",
      "exctrating data in batch436\n",
      "exctrating data in batch437\n",
      "exctrating data in batch438\n",
      "exctrating data in batch439\n",
      "exctrating data in batch440\n",
      "exctrating data in batch441\n",
      "exctrating data in batch442\n",
      "exctrating data in batch443\n",
      "exctrating data in batch444\n",
      "exctrating data in batch445\n",
      "exctrating data in batch446\n",
      "exctrating data in batch447\n",
      "exctrating data in batch448\n",
      "exctrating data in batch449\n",
      "exctrating data in batch450\n",
      "exctrating data in batch451\n",
      "exctrating data in batch452\n",
      "exctrating data in batch453\n",
      "exctrating data in batch454\n",
      "exctrating data in batch455\n",
      "exctrating data in batch456\n",
      "exctrating data in batch457\n",
      "exctrating data in batch458\n",
      "exctrating data in batch459\n",
      "exctrating data in batch460\n",
      "exctrating data in batch461\n",
      "exctrating data in batch462\n",
      "exctrating data in batch463\n",
      "exctrating data in batch464\n",
      "exctrating data in batch465\n",
      "exctrating data in batch466\n",
      "exctrating data in batch467\n",
      "exctrating data in batch468\n",
      "exctrating data in batch469\n",
      "exctrating data in batch470\n",
      "exctrating data in batch471\n",
      "exctrating data in batch472\n",
      "exctrating data in batch473\n",
      "exctrating data in batch474\n",
      "exctrating data in batch475\n",
      "exctrating data in batch476\n",
      "exctrating data in batch477\n",
      "exctrating data in batch478\n",
      "exctrating data in batch479\n",
      "exctrating data in batch480\n",
      "exctrating data in batch481\n",
      "exctrating data in batch482\n",
      "exctrating data in batch483\n",
      "exctrating data in batch484\n",
      "exctrating data in batch485\n",
      "exctrating data in batch486\n",
      "exctrating data in batch487\n",
      "exctrating data in batch488\n",
      "exctrating data in batch489\n",
      "exctrating data in batch490\n",
      "exctrating data in batch491\n",
      "exctrating data in batch492\n",
      "exctrating data in batch493\n",
      "exctrating data in batch494\n",
      "exctrating data in batch495\n",
      "exctrating data in batch496\n",
      "exctrating data in batch497\n",
      "exctrating data in batch498\n",
      "exctrating data in batch499\n",
      "exctrating data in batch500\n",
      "exctrating data in batch501\n",
      "exctrating data in batch502\n",
      "exctrating data in batch503\n",
      "exctrating data in batch504\n",
      "exctrating data in batch505\n",
      "exctrating data in batch506\n",
      "exctrating data in batch507\n",
      "exctrating data in batch508\n",
      "exctrating data in batch509\n",
      "exctrating data in batch510\n",
      "exctrating data in batch511\n",
      "exctrating data in batch512\n",
      "exctrating data in batch513\n",
      "exctrating data in batch514\n",
      "exctrating data in batch515\n",
      "exctrating data in batch516\n",
      "exctrating data in batch517\n",
      "exctrating data in batch518\n",
      "exctrating data in batch519\n",
      "exctrating data in batch520\n",
      "exctrating data in batch521\n",
      "exctrating data in batch522\n",
      "exctrating data in batch523\n",
      "exctrating data in batch524\n",
      "exctrating data in batch525\n",
      "exctrating data in batch526\n",
      "exctrating data in batch527\n",
      "exctrating data in batch528\n",
      "exctrating data in batch529\n",
      "exctrating data in batch530\n",
      "exctrating data in batch531\n",
      "exctrating data in batch532\n",
      "exctrating data in batch533\n",
      "exctrating data in batch534\n",
      "exctrating data in batch535\n",
      "exctrating data in batch536\n",
      "exctrating data in batch537\n",
      "exctrating data in batch538\n",
      "exctrating data in batch539\n",
      "exctrating data in batch540\n",
      "exctrating data in batch541\n",
      "exctrating data in batch542\n",
      "exctrating data in batch543\n",
      "exctrating data in batch544\n",
      "exctrating data in batch545\n",
      "exctrating data in batch546\n",
      "exctrating data in batch547\n",
      "exctrating data in batch548\n",
      "exctrating data in batch549\n",
      "exctrating data in batch550\n",
      "exctrating data in batch551\n",
      "exctrating data in batch552\n",
      "exctrating data in batch553\n",
      "exctrating data in batch554\n",
      "exctrating data in batch555\n",
      "exctrating data in batch556\n",
      "exctrating data in batch557\n",
      "exctrating data in batch558\n",
      "exctrating data in batch559\n",
      "exctrating data in batch560\n",
      "exctrating data in batch561\n",
      "exctrating data in batch562\n",
      "exctrating data in batch563\n",
      "exctrating data in batch564\n",
      "exctrating data in batch565\n",
      "exctrating data in batch566\n",
      "exctrating data in batch567\n",
      "exctrating data in batch568\n",
      "exctrating data in batch569\n",
      "exctrating data in batch570\n",
      "exctrating data in batch571\n",
      "exctrating data in batch572\n",
      "exctrating data in batch573\n",
      "exctrating data in batch574\n",
      "exctrating data in batch575\n",
      "exctrating data in batch576\n",
      "exctrating data in batch577\n",
      "exctrating data in batch578\n",
      "exctrating data in batch579\n",
      "exctrating data in batch580\n",
      "exctrating data in batch581\n",
      "exctrating data in batch582\n",
      "exctrating data in batch583\n",
      "exctrating data in batch584\n",
      "exctrating data in batch585\n",
      "exctrating data in batch586\n",
      "exctrating data in batch587\n",
      "exctrating data in batch588\n",
      "exctrating data in batch589\n"
     ]
    },
    {
     "name": "stdout",
     "output_type": "stream",
     "text": [
      "exctrating data in batch590\n",
      "exctrating data in batch591\n",
      "exctrating data in batch592\n",
      "exctrating data in batch593\n",
      "exctrating data in batch594\n",
      "exctrating data in batch595\n",
      "exctrating data in batch596\n",
      "exctrating data in batch597\n",
      "exctrating data in batch598\n",
      "exctrating data in batch599\n",
      "exctrating data in batch600\n",
      "exctrating data in batch601\n",
      "exctrating data in batch602\n",
      "exctrating data in batch603\n",
      "exctrating data in batch604\n",
      "exctrating data in batch605\n",
      "exctrating data in batch606\n",
      "exctrating data in batch607\n",
      "exctrating data in batch608\n",
      "exctrating data in batch609\n",
      "exctrating data in batch610\n",
      "exctrating data in batch611\n",
      "exctrating data in batch612\n",
      "exctrating data in batch613\n",
      "exctrating data in batch614\n",
      "exctrating data in batch615\n",
      "exctrating data in batch616\n",
      "exctrating data in batch617\n",
      "exctrating data in batch618\n",
      "exctrating data in batch619\n",
      "exctrating data in batch620\n",
      "exctrating data in batch621\n",
      "exctrating data in batch622\n",
      "exctrating data in batch623\n",
      "exctrating data in batch624\n",
      "exctrating data in batch625\n",
      "exctrating data in batch626\n",
      "exctrating data in batch627\n",
      "exctrating data in batch628\n",
      "exctrating data in batch629\n",
      "exctrating data in batch630\n",
      "exctrating data in batch631\n",
      "exctrating data in batch632\n",
      "exctrating data in batch633\n"
     ]
    }
   ],
   "source": [
    "ext_1 = []\n",
    "ext_2 = []\n",
    "#for (data, target, name) in train_loader:\n",
    "for batch_i, (data, target) in enumerate(train_loader):\n",
    "    print(f'exctrating data in batch{batch_i}')\n",
    "    data = data.cuda()\n",
    "    model_conv_ext.cuda()\n",
    "    output = model_conv_ext(data)\n",
    "    for i in range(len(output)):\n",
    "        ext_1.append((output[i].cpu().detach().numpy(),target[i]))\n",
    "        ext_2.append((data[i].cpu().detach().numpy(),target[i]))"
   ]
  },
  {
   "cell_type": "code",
   "execution_count": 21,
   "metadata": {},
   "outputs": [
    {
     "name": "stdout",
     "output_type": "stream",
     "text": [
      "exctrating data in batch0\n",
      "exctrating data in batch1\n",
      "exctrating data in batch2\n",
      "exctrating data in batch3\n",
      "exctrating data in batch4\n",
      "exctrating data in batch5\n",
      "exctrating data in batch6\n",
      "exctrating data in batch7\n",
      "exctrating data in batch8\n",
      "exctrating data in batch9\n",
      "exctrating data in batch10\n",
      "exctrating data in batch11\n",
      "exctrating data in batch12\n",
      "exctrating data in batch13\n",
      "exctrating data in batch14\n",
      "exctrating data in batch15\n",
      "exctrating data in batch16\n",
      "exctrating data in batch17\n",
      "exctrating data in batch18\n",
      "exctrating data in batch19\n",
      "exctrating data in batch20\n",
      "exctrating data in batch21\n",
      "exctrating data in batch22\n",
      "exctrating data in batch23\n",
      "exctrating data in batch24\n",
      "exctrating data in batch25\n",
      "exctrating data in batch26\n",
      "exctrating data in batch27\n",
      "exctrating data in batch28\n",
      "exctrating data in batch29\n",
      "exctrating data in batch30\n"
     ]
    },
    {
     "ename": "IndexError",
     "evalue": "index 1015 is out of bounds for axis 0 with size 1015",
     "output_type": "error",
     "traceback": [
      "\u001b[0;31m---------------------------------------------------------------------------\u001b[0m",
      "\u001b[0;31mIndexError\u001b[0m                                Traceback (most recent call last)",
      "\u001b[0;32m<ipython-input-21-6bfed5930fbd>\u001b[0m in \u001b[0;36m<module>\u001b[0;34m()\u001b[0m\n\u001b[1;32m      2\u001b[0m \u001b[0mtest_ext_2\u001b[0m \u001b[0;34m=\u001b[0m \u001b[0;34m[\u001b[0m\u001b[0;34m]\u001b[0m\u001b[0;34m\u001b[0m\u001b[0;34m\u001b[0m\u001b[0m\n\u001b[1;32m      3\u001b[0m \u001b[0;31m#for (data, target, name) in train_loader:\u001b[0m\u001b[0;34m\u001b[0m\u001b[0;34m\u001b[0m\u001b[0;34m\u001b[0m\u001b[0m\n\u001b[0;32m----> 4\u001b[0;31m \u001b[0;32mfor\u001b[0m \u001b[0mbatch_i\u001b[0m\u001b[0;34m,\u001b[0m \u001b[0;34m(\u001b[0m\u001b[0mdata\u001b[0m\u001b[0;34m,\u001b[0m \u001b[0mtarget\u001b[0m\u001b[0;34m)\u001b[0m \u001b[0;32min\u001b[0m \u001b[0menumerate\u001b[0m\u001b[0;34m(\u001b[0m\u001b[0mtest_loader\u001b[0m\u001b[0;34m)\u001b[0m\u001b[0;34m:\u001b[0m\u001b[0;34m\u001b[0m\u001b[0;34m\u001b[0m\u001b[0m\n\u001b[0m\u001b[1;32m      5\u001b[0m \u001b[0;31m#     if batch_i == 20:\u001b[0m\u001b[0;34m\u001b[0m\u001b[0;34m\u001b[0m\u001b[0;34m\u001b[0m\u001b[0m\n\u001b[1;32m      6\u001b[0m \u001b[0;31m#         break\u001b[0m\u001b[0;34m\u001b[0m\u001b[0;34m\u001b[0m\u001b[0;34m\u001b[0m\u001b[0m\n",
      "\u001b[0;32m/opt/conda/lib/python3.6/site-packages/torch/utils/data/dataloader.py\u001b[0m in \u001b[0;36m__next__\u001b[0;34m(self)\u001b[0m\n\u001b[1;32m    613\u001b[0m         \u001b[0;32mif\u001b[0m \u001b[0mself\u001b[0m\u001b[0;34m.\u001b[0m\u001b[0mnum_workers\u001b[0m \u001b[0;34m==\u001b[0m \u001b[0;36m0\u001b[0m\u001b[0;34m:\u001b[0m  \u001b[0;31m# same-process loading\u001b[0m\u001b[0;34m\u001b[0m\u001b[0;34m\u001b[0m\u001b[0m\n\u001b[1;32m    614\u001b[0m             \u001b[0mindices\u001b[0m \u001b[0;34m=\u001b[0m \u001b[0mnext\u001b[0m\u001b[0;34m(\u001b[0m\u001b[0mself\u001b[0m\u001b[0;34m.\u001b[0m\u001b[0msample_iter\u001b[0m\u001b[0;34m)\u001b[0m  \u001b[0;31m# may raise StopIteration\u001b[0m\u001b[0;34m\u001b[0m\u001b[0;34m\u001b[0m\u001b[0m\n\u001b[0;32m--> 615\u001b[0;31m             \u001b[0mbatch\u001b[0m \u001b[0;34m=\u001b[0m \u001b[0mself\u001b[0m\u001b[0;34m.\u001b[0m\u001b[0mcollate_fn\u001b[0m\u001b[0;34m(\u001b[0m\u001b[0;34m[\u001b[0m\u001b[0mself\u001b[0m\u001b[0;34m.\u001b[0m\u001b[0mdataset\u001b[0m\u001b[0;34m[\u001b[0m\u001b[0mi\u001b[0m\u001b[0;34m]\u001b[0m \u001b[0;32mfor\u001b[0m \u001b[0mi\u001b[0m \u001b[0;32min\u001b[0m \u001b[0mindices\u001b[0m\u001b[0;34m]\u001b[0m\u001b[0;34m)\u001b[0m\u001b[0;34m\u001b[0m\u001b[0;34m\u001b[0m\u001b[0m\n\u001b[0m\u001b[1;32m    616\u001b[0m             \u001b[0;32mif\u001b[0m \u001b[0mself\u001b[0m\u001b[0;34m.\u001b[0m\u001b[0mpin_memory\u001b[0m\u001b[0;34m:\u001b[0m\u001b[0;34m\u001b[0m\u001b[0;34m\u001b[0m\u001b[0m\n\u001b[1;32m    617\u001b[0m                 \u001b[0mbatch\u001b[0m \u001b[0;34m=\u001b[0m \u001b[0mpin_memory_batch\u001b[0m\u001b[0;34m(\u001b[0m\u001b[0mbatch\u001b[0m\u001b[0;34m)\u001b[0m\u001b[0;34m\u001b[0m\u001b[0;34m\u001b[0m\u001b[0m\n",
      "\u001b[0;32m/opt/conda/lib/python3.6/site-packages/torch/utils/data/dataloader.py\u001b[0m in \u001b[0;36m<listcomp>\u001b[0;34m(.0)\u001b[0m\n\u001b[1;32m    613\u001b[0m         \u001b[0;32mif\u001b[0m \u001b[0mself\u001b[0m\u001b[0;34m.\u001b[0m\u001b[0mnum_workers\u001b[0m \u001b[0;34m==\u001b[0m \u001b[0;36m0\u001b[0m\u001b[0;34m:\u001b[0m  \u001b[0;31m# same-process loading\u001b[0m\u001b[0;34m\u001b[0m\u001b[0;34m\u001b[0m\u001b[0m\n\u001b[1;32m    614\u001b[0m             \u001b[0mindices\u001b[0m \u001b[0;34m=\u001b[0m \u001b[0mnext\u001b[0m\u001b[0;34m(\u001b[0m\u001b[0mself\u001b[0m\u001b[0;34m.\u001b[0m\u001b[0msample_iter\u001b[0m\u001b[0;34m)\u001b[0m  \u001b[0;31m# may raise StopIteration\u001b[0m\u001b[0;34m\u001b[0m\u001b[0;34m\u001b[0m\u001b[0m\n\u001b[0;32m--> 615\u001b[0;31m             \u001b[0mbatch\u001b[0m \u001b[0;34m=\u001b[0m \u001b[0mself\u001b[0m\u001b[0;34m.\u001b[0m\u001b[0mcollate_fn\u001b[0m\u001b[0;34m(\u001b[0m\u001b[0;34m[\u001b[0m\u001b[0mself\u001b[0m\u001b[0;34m.\u001b[0m\u001b[0mdataset\u001b[0m\u001b[0;34m[\u001b[0m\u001b[0mi\u001b[0m\u001b[0;34m]\u001b[0m \u001b[0;32mfor\u001b[0m \u001b[0mi\u001b[0m \u001b[0;32min\u001b[0m \u001b[0mindices\u001b[0m\u001b[0;34m]\u001b[0m\u001b[0;34m)\u001b[0m\u001b[0;34m\u001b[0m\u001b[0;34m\u001b[0m\u001b[0m\n\u001b[0m\u001b[1;32m    616\u001b[0m             \u001b[0;32mif\u001b[0m \u001b[0mself\u001b[0m\u001b[0;34m.\u001b[0m\u001b[0mpin_memory\u001b[0m\u001b[0;34m:\u001b[0m\u001b[0;34m\u001b[0m\u001b[0;34m\u001b[0m\u001b[0m\n\u001b[1;32m    617\u001b[0m                 \u001b[0mbatch\u001b[0m \u001b[0;34m=\u001b[0m \u001b[0mpin_memory_batch\u001b[0m\u001b[0;34m(\u001b[0m\u001b[0mbatch\u001b[0m\u001b[0;34m)\u001b[0m\u001b[0;34m\u001b[0m\u001b[0;34m\u001b[0m\u001b[0m\n",
      "\u001b[0;32m<ipython-input-4-4006d2e9ed48>\u001b[0m in \u001b[0;36m__getitem__\u001b[0;34m(self, idx)\u001b[0m\n\u001b[1;32m     15\u001b[0m     \u001b[0;32mdef\u001b[0m \u001b[0m__getitem__\u001b[0m\u001b[0;34m(\u001b[0m\u001b[0mself\u001b[0m\u001b[0;34m,\u001b[0m \u001b[0midx\u001b[0m\u001b[0;34m)\u001b[0m\u001b[0;34m:\u001b[0m\u001b[0;34m\u001b[0m\u001b[0;34m\u001b[0m\u001b[0m\n\u001b[1;32m     16\u001b[0m         \u001b[0;32mif\u001b[0m \u001b[0mself\u001b[0m\u001b[0;34m.\u001b[0m\u001b[0mdatatype\u001b[0m \u001b[0;34m==\u001b[0m \u001b[0;34m'train'\u001b[0m\u001b[0;34m:\u001b[0m\u001b[0;34m\u001b[0m\u001b[0;34m\u001b[0m\u001b[0m\n\u001b[0;32m---> 17\u001b[0;31m             \u001b[0mimg_name\u001b[0m \u001b[0;34m=\u001b[0m \u001b[0mos\u001b[0m\u001b[0;34m.\u001b[0m\u001b[0mpath\u001b[0m\u001b[0;34m.\u001b[0m\u001b[0mjoin\u001b[0m\u001b[0;34m(\u001b[0m\u001b[0mself\u001b[0m\u001b[0;34m.\u001b[0m\u001b[0mdatafolder\u001b[0m\u001b[0;34m,\u001b[0m \u001b[0mself\u001b[0m\u001b[0;34m.\u001b[0m\u001b[0mdf\u001b[0m\u001b[0;34m[\u001b[0m\u001b[0midx\u001b[0m \u001b[0;34m-\u001b[0m \u001b[0;36m1\u001b[0m\u001b[0;34m]\u001b[0m\u001b[0;34m[\u001b[0m\u001b[0;36m0\u001b[0m\u001b[0;34m]\u001b[0m\u001b[0;34m)\u001b[0m\u001b[0;34m\u001b[0m\u001b[0;34m\u001b[0m\u001b[0m\n\u001b[0m\u001b[1;32m     18\u001b[0m             \u001b[0mlabel\u001b[0m \u001b[0;34m=\u001b[0m \u001b[0mself\u001b[0m\u001b[0;34m.\u001b[0m\u001b[0my\u001b[0m\u001b[0;34m[\u001b[0m\u001b[0midx\u001b[0m \u001b[0;34m-\u001b[0m \u001b[0;36m1\u001b[0m\u001b[0;34m]\u001b[0m\u001b[0;34m\u001b[0m\u001b[0;34m\u001b[0m\u001b[0m\n\u001b[1;32m     19\u001b[0m \u001b[0;34m\u001b[0m\u001b[0m\n",
      "\u001b[0;31mIndexError\u001b[0m: index 1015 is out of bounds for axis 0 with size 1015"
     ]
    }
   ],
   "source": [
    "test_ext_1 = []\n",
    "test_ext_2 = []\n",
    "#for (data, target, name) in train_loader:\n",
    "for batch_i, (data, target) in enumerate(test_loader):\n",
    "#     if batch_i == 20:\n",
    "#         break\n",
    "    print(f'exctrating data in batch{batch_i}')\n",
    "    data = data.cuda()\n",
    "    model_conv_ext.cuda()\n",
    "    output = model_conv_ext(data)\n",
    "    for i in range(len(output)):\n",
    "        test_ext_1.append((output[i].cpu().detach().numpy(),target[i]))\n",
    "        test_ext_2.append((data[i].cpu().detach().numpy(),target[i]))"
   ]
  },
  {
   "cell_type": "markdown",
   "metadata": {},
   "source": [
    "### Show the feature"
   ]
  },
  {
   "cell_type": "code",
   "execution_count": 22,
   "metadata": {},
   "outputs": [
    {
     "name": "stderr",
     "output_type": "stream",
     "text": [
      "Clipping input data to the valid range for imshow with RGB data ([0..1] for floats or [0..255] for integers).\n"
     ]
    },
    {
     "data": {
      "text/plain": [
       "<matplotlib.image.AxesImage at 0x7fb9a29d3e80>"
      ]
     },
     "execution_count": 22,
     "metadata": {},
     "output_type": "execute_result"
    },
    {
     "data": {
      "image/png": "[encoded data removed]",
      "text/plain": [
       "<Figure size 432x288 with 1 Axes>"
      ]
     },
     "metadata": {
      "needs_background": "light"
     },
     "output_type": "display_data"
    }
   ],
   "source": [
    "x = ext_2[2][0]\n",
    "b = cv2.merge([x[0,:,:],x[1,:,:],x[2,:,:]])\n",
    "plt.title('Original Cropped Image')\n",
    "plt.imshow(b) "
   ]
  },
  {
   "cell_type": "code",
   "execution_count": 23,
   "metadata": {},
   "outputs": [
    {
     "data": {
      "text/plain": [
       "<matplotlib.image.AxesImage at 0x7fb9a20f5e10>"
      ]
     },
     "execution_count": 23,
     "metadata": {},
     "output_type": "execute_result"
    },
    {
     "data": {
      "image/png": "[encoded data removed]",
      "text/plain": [
       "<Figure size 432x288 with 1 Axes>"
      ]
     },
     "metadata": {
      "needs_background": "light"
     },
     "output_type": "display_data"
    }
   ],
   "source": [
    "x = ext_1[2][0]\n",
    "plt.title('Extracted Image Feature')\n",
    "plt.imshow(x[6,:,:]) "
   ]
  },
  {
   "cell_type": "markdown",
   "metadata": {},
   "source": [
    "# Classification by Knn"
   ]
  },
  {
   "cell_type": "code",
   "execution_count": null,
   "metadata": {},
   "outputs": [],
   "source": [
    "x = np.zeros((len(ext_2), 30000))\n",
    "for i in range(len(ext_2)):\n",
    "    x[i, :]= ext_2[i][0].reshape(1, 30000)\n",
    "x_ts = np.zeros((len(test_ext_2), 30000))\n",
    "for i in range(len(test_ext_2)):\n",
    "    x[i, :]= test_ext_2[i][0].reshape(1, 30000)\n",
    "y_n = np.argmax(y, axis = 1)\n",
    "y_n_ts = np.argmax(y_ts, axis = 1)"
   ]
  },
  {
   "cell_type": "code",
   "execution_count": null,
   "metadata": {},
   "outputs": [],
   "source": [
    "knn_conv_ori = KNeighborsClassifier(n_neighbors=3)\n",
    "knn_conv_ori.fit(x, y_n)\n",
    "joblib.dump(knn_conv_ori, \"./model/knn_conv_ori.m\")"
   ]
  },
  {
   "cell_type": "code",
   "execution_count": null,
   "metadata": {},
   "outputs": [],
   "source": [
    "knn_conv_ori.score(x_ts, y_n_ts)"
   ]
  },
  {
   "cell_type": "code",
   "execution_count": null,
   "metadata": {},
   "outputs": [],
   "source": [
    "x = np.zeros((len(ext_1), 16384))\n",
    "y_n = np.zeros(len(ext_1))\n",
    "for i in range(len(ext_1)):\n",
    "    x[i, :]= ext_1[i][0].reshape(1, 16384)\n",
    "    y_n[i] = np.argmax(ext_1[i][1].cpu().detach().numpy(), axis = 0)\n",
    "x_ts = np.zeros((len(test_ext_1), 16384))\n",
    "y_n_ts = np.zeros(len(test_ext_1))\n",
    "for i in range(len(test_ext_1)):\n",
    "    x[i, :] = test_ext_1[i][0].reshape(1, 16384)\n",
    "    y_n_ts[i] = np.argmax(test_ext_1[i][1].cpu().detach().numpy(), axis = 0)"
   ]
  },
  {
   "cell_type": "code",
   "execution_count": null,
   "metadata": {},
   "outputs": [],
   "source": [
    "knn_conv = KNeighborsClassifier(n_neighbors=3)\n",
    "knn_conv.fit(x, y_n)\n",
    "joblib.dump(knn_conv, \"./model/knn_conv.m\")"
   ]
  },
  {
   "cell_type": "code",
   "execution_count": null,
   "metadata": {},
   "outputs": [],
   "source": [
    "knn_conv.score(x_ts, y_n_ts)"
   ]
  },
  {
   "cell_type": "markdown",
   "metadata": {},
   "source": [
    "# Classification by SVM"
   ]
  },
  {
   "cell_type": "code",
   "execution_count": null,
   "metadata": {},
   "outputs": [],
   "source": [
    "svm1 = LinearSVC()\n",
    "svm1.fit(x, y_n)"
   ]
  },
  {
   "cell_type": "code",
   "execution_count": null,
   "metadata": {},
   "outputs": [],
   "source": [
    "score_svm = svm1.score(x_ts, y_n_ts)\n",
    "print(score_svm)"
   ]
  }
 ],
 "metadata": {
  "kernelspec": {
   "display_name": "Python 3",
   "language": "python",
   "name": "python3"
  },
  "language_info": {
   "codemirror_mode": {
    "name": "ipython",
    "version": 3
   },
   "file_extension": ".py",
   "mimetype": "text/x-python",
   "name": "python",
   "nbconvert_exporter": "python",
   "pygments_lexer": "ipython3",
   "version": "3.6.8"
  }
 },
 "nbformat": 4,
 "nbformat_minor": 1
}
